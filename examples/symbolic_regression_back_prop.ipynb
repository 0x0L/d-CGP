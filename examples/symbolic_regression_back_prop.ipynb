{
 "cells": [
  {
   "cell_type": "markdown",
   "metadata": {},
   "source": [
    "# Learning constants in a symbolic regression task\n",
    "\n",
    "One of the long standing \"skeletons in the closet\" of GP techniques is the constant finding problem. Here we provide a novel solution where such constants are learned during evolution thanks to a second order back-propagation algorithm"
   ]
  },
  {
   "cell_type": "markdown",
   "metadata": {},
   "source": [
    "Lets first import dcgpy and pyaudi and set up things as to use dCGP on gduals defined over vectorized floats"
   ]
  },
  {
   "cell_type": "code",
   "execution_count": 151,
   "metadata": {
    "collapsed": false
   },
   "outputs": [],
   "source": [
    "from dcgpy import expression_gdual_vdouble as expression\n",
    "from dcgpy import kernel_set_gdual_vdouble as kernel_set\n",
    "from pyaudi import gdual_vdouble as gdual\n",
    "import pyaudi\n",
    "from matplotlib import pyplot as plt\n",
    "import numpy as np\n",
    "from random import randint\n",
    "%matplotlib inline"
   ]
  },
  {
   "cell_type": "markdown",
   "metadata": {
    "collapsed": true
   },
   "source": [
    "## 1 - We define the set of kernel functions we will be using"
   ]
  },
  {
   "cell_type": "code",
   "execution_count": 152,
   "metadata": {
    "collapsed": false
   },
   "outputs": [],
   "source": [
    "kernels = kernel_set([\"sum\", \"mul\", \"diff\",\"pdiv\"])() # note the call operator (returns the list of kernels)\n",
    "dCGP = expression(inputs=2, outputs=1, rows=1, cols=15, levels_back=16, arity=2, kernels=kernels, seed = 1)"
   ]
  },
  {
   "cell_type": "markdown",
   "metadata": {},
   "source": [
    "# 2 - We define the target functions we will use\n",
    "As target function, we will try to learn some variation to the koza quintic polynomial that is one of the basic tests devised for symbolic regression:\n",
    "\n",
    "P1: $x^5 - \\pi x^3 + x$\n",
    "\n",
    "P2: $x^5 - \\pi x^3 + \\frac{2\\pi}x$\n",
    "\n",
    "P3: $\\pi x^5 + e x^3 + x$\n",
    "\n",
    "where $\\pi$ and $e$ are present in the exrpessions and have thus to be learned"
   ]
  },
  {
   "cell_type": "code",
   "execution_count": 153,
   "metadata": {
    "collapsed": false
   },
   "outputs": [],
   "source": [
    "def targetP1(x):\n",
    "    return x**5 - np.pi*x**3 + x\n",
    "def targetP2(x):\n",
    "    return x**5 - np.pi*x**3 + 2*np.pi / x\n",
    "def targetP3(x):\n",
    "    return (np.e*x**5 + x**3)/(x + 1)\n"
   ]
  },
  {
   "cell_type": "code",
   "execution_count": 154,
   "metadata": {
    "collapsed": false
   },
   "outputs": [],
   "source": [
    "# This is the quadratic error of the expression when the constant value is fixed to cin\n",
    "# The target values are contained in yt\n",
    "def err(dCGP, yt, cin):\n",
    "    c = gdual([cin], \"c\", 2)\n",
    "    y = dCGP([x,c])[0]\n",
    "    return (y-gdual(yt))**2 / 10\n",
    "\n",
    "# This is the quadratic error of the expression when the constant is learned using a, one step, second order method.\n",
    "# The target values are contained in yt\n",
    "def err2(dCGP, yt,cin):\n",
    "    c = gdual([cin], \"c\", 2)\n",
    "    y = dCGP([x,c])[0]\n",
    "    dc =  sum(err(dCGP,yt,cin).get_derivative({\"dc\":1}))\n",
    "    dc2 = sum(err(dCGP,yt,cin).get_derivative({\"dc\":2}))\n",
    "    if dc2 != 0:\n",
    "        learned_constant = c - dc/dc2\n",
    "        y = dCGP([x, learned_constant])[0]\n",
    "    else:\n",
    "        learned_constant = c\n",
    "    return (y-gdual(yt))**2 / 10, learned_constant.constant_cf[0]"
   ]
  },
  {
   "cell_type": "markdown",
   "metadata": {},
   "source": [
    "# 3 - Problem P1"
   ]
  },
  {
   "cell_type": "code",
   "execution_count": 129,
   "metadata": {
    "collapsed": true
   },
   "outputs": [],
   "source": [
    "x = np.linspace(1,3,10)\n",
    "yt = targetP1(x)\n",
    "x = gdual(x)"
   ]
  },
  {
   "cell_type": "code",
   "execution_count": 132,
   "metadata": {
    "collapsed": false
   },
   "outputs": [
    {
     "name": "stdout",
     "output_type": "stream",
     "text": [
      "New best found: gen:  0  value:  4085.678641291084 [c**2*x] -0.09905548743227777\n",
      "New best found: gen:  1  value:  3937.7316332690107 [c**5*x**3 - c**4*x**2] 0.7147855554869127\n",
      "New best found: gen:  1  value:  67.33252622575444 [c*x**4 - 2*c*x**2] 2.346929735085598\n",
      "New best found: gen:  18  value:  65.80173002473113 [2*c*x**5] 0.3085477207392846\n",
      "New best found: gen:  32  value:  53.30829799719378 [2*c*x**2 + x**5] -3.868800493696562\n",
      "New best found: gen:  38  value:  10.206419789384034 [-c*x**2 + x**5 - x**4] 0.8447992392876195\n",
      "New best found: gen:  44  value:  0.6248353291985256 [-c*x**3 + x**5] 2.9965137674496463\n",
      "New best found: gen:  72  value:  0.6248353291985245 [-c*x**3 + x**5] 2.9965137674496463\n",
      "New best found: gen:  3696  value:  2.9635362575055256e-29 [-c*x**3 + x**5 + x] 3.1415926535897927\n"
     ]
    }
   ],
   "source": [
    "offsprings = 4\n",
    "max_gen=10000\n",
    "constant = 1.\n",
    "chromosome = [1] * offsprings\n",
    "fitness = [1] *offsprings\n",
    "cout_off = [1]*offsprings\n",
    "best_chromosome = dCGP.get()\n",
    "fit, cout = err2(dCGP,yt,constant)\n",
    "best_fitness = sum(fit.constant_cf)\n",
    "for g in range(max_gen):\n",
    "    for i in range(offsprings):\n",
    "        dCGP.set(best_chromosome)\n",
    "        cumsum=0\n",
    "        dCGP.mutate_active(i)\n",
    "        fit, cout = err2(dCGP,yt,constant)\n",
    "        fitness[i] = sum(fit.constant_cf )\n",
    "        chromosome[i] = dCGP.get()\n",
    "        cout_off[i] = cout\n",
    "    for i in range(offsprings):\n",
    "        if fitness[i] <= best_fitness:\n",
    "            if (fitness[i] != best_fitness):\n",
    "                best_chromosome = chromosome[i]\n",
    "                best_fitness = fitness[i]\n",
    "                dCGP.set(best_chromosome)\n",
    "                print(\"New best found: gen: \", g, \" value: \", fitness[i],  dCGP.simplify([\"x\",\"c\"]), cout_off[i])\n",
    "\n",
    "    if best_fitness < 1e-7:\n",
    "        break"
   ]
  },
  {
   "cell_type": "markdown",
   "metadata": {},
   "source": [
    "# 4 - Problem P2\n"
   ]
  },
  {
   "cell_type": "code",
   "execution_count": 159,
   "metadata": {
    "collapsed": true
   },
   "outputs": [],
   "source": [
    "x = np.linspace(0.1,3,10)\n",
    "yt = targetP2(x)\n",
    "x = gdual(x)"
   ]
  },
  {
   "cell_type": "code",
   "execution_count": 162,
   "metadata": {
    "collapsed": false
   },
   "outputs": [
    {
     "name": "stdout",
     "output_type": "stream",
     "text": [
      "New best found: gen:  0  value:  3209.5894376102124 [c**2*x**4/(c - x) - 2*c**2*x**2/(c - x) + c**2/(c - x) + c*x**4 - 2*c*x**4/(c - x) + 2*c*x**3/(c - x) + 2*c*x**2/(c - x) - 2*c*x/(c - x) - x**4 + x**4/(c - x) - 2*x**3/(c - x) + x**2/(c - x)] 1.5449450361025139\n",
      "New best found: gen:  2  value:  1075.6984537636474 [-c**2*x**2 + c**2 + c*x**4 + c*x**2 - c*x - x**4] 2.398806307587214\n",
      "New best found: gen:  3  value:  380.6023634263559 [c**2*x + c**2 - 2*c*x**3 - c*x + x**5] 1.5990573327001094\n",
      "New best found: gen:  6  value:  376.32362054974664 [c**2*x + c**2 - 2*c*x**3 + c*x + x**5] 1.810095032408087\n",
      "New best found: gen:  9  value:  50.18451575258108 [c**2*x + c**2/x - 2*c*x**3 + c*x + x**5] 2.231656721128762\n",
      "New best found: gen:  71  value:  34.26078387890098 [c**2 + c**2/x**2 - c*x**3 + 2*c + x**5 - x**4 + x**2] 0.834974028417865\n",
      "New best found: gen:  80  value:  34.26078387890097 [c**2 + c**2/x**2 - c*x**3 + 2*c + x**5 - x**4 + x**2] 0.834974028417865\n",
      "New best found: gen:  245  value:  12.866432557526977 [-c*x**3 + c*x + 2*c/x + x**5 - x**3 + 2*x] 2.8594365075685744\n",
      "New best found: gen:  270  value:  1.0825143771895336e-28 [-c*x**3 + 2*c/x + x**5] 3.1415926535897927\n"
     ]
    }
   ],
   "source": [
    "offsprings = 4\n",
    "max_gen=10000\n",
    "constant = 1.\n",
    "chromosome = [1] * offsprings\n",
    "fitness = [1] *offsprings\n",
    "cout_off = [1]*offsprings\n",
    "best_chromosome = dCGP.get()\n",
    "fit, cout = err2(dCGP,yt,constant)\n",
    "best_fitness = sum(fit.constant_cf)\n",
    "for g in range(max_gen):\n",
    "    for i in range(offsprings):\n",
    "        dCGP.set(best_chromosome)\n",
    "        cumsum=0\n",
    "        dCGP.mutate_active(i)\n",
    "        fit, cout = err2(dCGP,yt,constant)\n",
    "        fitness[i] = sum(fit.constant_cf )\n",
    "        chromosome[i] = dCGP.get()\n",
    "        cout_off[i] = cout\n",
    "    for i in range(offsprings):\n",
    "        if fitness[i] <= best_fitness:\n",
    "            if (fitness[i] != best_fitness):\n",
    "                best_chromosome = chromosome[i]\n",
    "                best_fitness = fitness[i]\n",
    "                dCGP.set(best_chromosome)\n",
    "                print(\"New best found: gen: \", g, \" value: \", fitness[i],  dCGP.simplify([\"x\",\"c\"]), cout_off[i])\n",
    "\n",
    "    if best_fitness < 1e-7:\n",
    "        break"
   ]
  },
  {
   "cell_type": "markdown",
   "metadata": {},
   "source": [
    "# 4 - Problem P3\n"
   ]
  },
  {
   "cell_type": "code",
   "execution_count": 219,
   "metadata": {
    "collapsed": false
   },
   "outputs": [],
   "source": [
    "x = np.linspace(-0.9,1,100)\n",
    "yt = targetP3(x)\n",
    "x = gdual(x)"
   ]
  },
  {
   "cell_type": "code",
   "execution_count": 234,
   "metadata": {
    "collapsed": false
   },
   "outputs": [
    {
     "ename": "KeyboardInterrupt",
     "evalue": "",
     "output_type": "error",
     "traceback": [
      "\u001b[0;31m---------------------------------------------------------------------------\u001b[0m",
      "\u001b[0;31mKeyboardInterrupt\u001b[0m                         Traceback (most recent call last)",
      "\u001b[0;32m<ipython-input-234-3954cab67260>\u001b[0m in \u001b[0;36m<module>\u001b[0;34m()\u001b[0m\n\u001b[1;32m     13\u001b[0m         \u001b[0mcumsum\u001b[0m\u001b[0;34m=\u001b[0m\u001b[0;36m0\u001b[0m\u001b[0;34m\u001b[0m\u001b[0m\n\u001b[1;32m     14\u001b[0m         \u001b[0mdCGP\u001b[0m\u001b[0;34m.\u001b[0m\u001b[0mmutate_active\u001b[0m\u001b[0;34m(\u001b[0m\u001b[0mi\u001b[0m\u001b[0;34m)\u001b[0m\u001b[0;34m\u001b[0m\u001b[0m\n\u001b[0;32m---> 15\u001b[0;31m         \u001b[0mfit\u001b[0m\u001b[0;34m,\u001b[0m \u001b[0mcout\u001b[0m \u001b[0;34m=\u001b[0m \u001b[0merr2\u001b[0m\u001b[0;34m(\u001b[0m\u001b[0mdCGP\u001b[0m\u001b[0;34m,\u001b[0m \u001b[0myt\u001b[0m\u001b[0;34m,\u001b[0m \u001b[0mconstant\u001b[0m\u001b[0;34m)\u001b[0m\u001b[0;34m\u001b[0m\u001b[0m\n\u001b[0m\u001b[1;32m     16\u001b[0m         \u001b[0mfitness\u001b[0m\u001b[0;34m[\u001b[0m\u001b[0mi\u001b[0m\u001b[0;34m]\u001b[0m \u001b[0;34m=\u001b[0m \u001b[0msum\u001b[0m\u001b[0;34m(\u001b[0m\u001b[0mfit\u001b[0m\u001b[0;34m.\u001b[0m\u001b[0mconstant_cf\u001b[0m\u001b[0;34m)\u001b[0m\u001b[0;34m\u001b[0m\u001b[0m\n\u001b[1;32m     17\u001b[0m         \u001b[0mchromosome\u001b[0m\u001b[0;34m[\u001b[0m\u001b[0mi\u001b[0m\u001b[0;34m]\u001b[0m \u001b[0;34m=\u001b[0m \u001b[0mdCGP\u001b[0m\u001b[0;34m.\u001b[0m\u001b[0mget\u001b[0m\u001b[0;34m(\u001b[0m\u001b[0;34m)\u001b[0m\u001b[0;34m\u001b[0m\u001b[0m\n",
      "\u001b[0;32m<ipython-input-154-f97c1de02671>\u001b[0m in \u001b[0;36merr2\u001b[0;34m(dCGP, yt, cin)\u001b[0m\n\u001b[1;32m     11\u001b[0m     \u001b[0mc\u001b[0m \u001b[0;34m=\u001b[0m \u001b[0mgdual\u001b[0m\u001b[0;34m(\u001b[0m\u001b[0;34m[\u001b[0m\u001b[0mcin\u001b[0m\u001b[0;34m]\u001b[0m\u001b[0;34m,\u001b[0m \u001b[0;34m\"c\"\u001b[0m\u001b[0;34m,\u001b[0m \u001b[0;36m2\u001b[0m\u001b[0;34m)\u001b[0m\u001b[0;34m\u001b[0m\u001b[0m\n\u001b[1;32m     12\u001b[0m     \u001b[0my\u001b[0m \u001b[0;34m=\u001b[0m \u001b[0mdCGP\u001b[0m\u001b[0;34m(\u001b[0m\u001b[0;34m[\u001b[0m\u001b[0mx\u001b[0m\u001b[0;34m,\u001b[0m\u001b[0mc\u001b[0m\u001b[0;34m]\u001b[0m\u001b[0;34m)\u001b[0m\u001b[0;34m[\u001b[0m\u001b[0;36m0\u001b[0m\u001b[0;34m]\u001b[0m\u001b[0;34m\u001b[0m\u001b[0m\n\u001b[0;32m---> 13\u001b[0;31m     \u001b[0mdc\u001b[0m \u001b[0;34m=\u001b[0m  \u001b[0msum\u001b[0m\u001b[0;34m(\u001b[0m\u001b[0merr\u001b[0m\u001b[0;34m(\u001b[0m\u001b[0mdCGP\u001b[0m\u001b[0;34m,\u001b[0m\u001b[0myt\u001b[0m\u001b[0;34m,\u001b[0m\u001b[0mcin\u001b[0m\u001b[0;34m)\u001b[0m\u001b[0;34m.\u001b[0m\u001b[0mget_derivative\u001b[0m\u001b[0;34m(\u001b[0m\u001b[0;34m{\u001b[0m\u001b[0;34m\"dc\"\u001b[0m\u001b[0;34m:\u001b[0m\u001b[0;36m1\u001b[0m\u001b[0;34m}\u001b[0m\u001b[0;34m)\u001b[0m\u001b[0;34m)\u001b[0m\u001b[0;34m\u001b[0m\u001b[0m\n\u001b[0m\u001b[1;32m     14\u001b[0m     \u001b[0mdc2\u001b[0m \u001b[0;34m=\u001b[0m \u001b[0msum\u001b[0m\u001b[0;34m(\u001b[0m\u001b[0merr\u001b[0m\u001b[0;34m(\u001b[0m\u001b[0mdCGP\u001b[0m\u001b[0;34m,\u001b[0m\u001b[0myt\u001b[0m\u001b[0;34m,\u001b[0m\u001b[0mcin\u001b[0m\u001b[0;34m)\u001b[0m\u001b[0;34m.\u001b[0m\u001b[0mget_derivative\u001b[0m\u001b[0;34m(\u001b[0m\u001b[0;34m{\u001b[0m\u001b[0;34m\"dc\"\u001b[0m\u001b[0;34m:\u001b[0m\u001b[0;36m2\u001b[0m\u001b[0;34m}\u001b[0m\u001b[0;34m)\u001b[0m\u001b[0;34m)\u001b[0m\u001b[0;34m\u001b[0m\u001b[0m\n\u001b[1;32m     15\u001b[0m     \u001b[0;32mif\u001b[0m \u001b[0mdc2\u001b[0m \u001b[0;34m!=\u001b[0m \u001b[0;36m0\u001b[0m\u001b[0;34m:\u001b[0m\u001b[0;34m\u001b[0m\u001b[0m\n",
      "\u001b[0;32m<ipython-input-154-f97c1de02671>\u001b[0m in \u001b[0;36merr\u001b[0;34m(dCGP, yt, cin)\u001b[0m\n\u001b[1;32m      4\u001b[0m     \u001b[0mc\u001b[0m \u001b[0;34m=\u001b[0m \u001b[0mgdual\u001b[0m\u001b[0;34m(\u001b[0m\u001b[0;34m[\u001b[0m\u001b[0mcin\u001b[0m\u001b[0;34m]\u001b[0m\u001b[0;34m,\u001b[0m \u001b[0;34m\"c\"\u001b[0m\u001b[0;34m,\u001b[0m \u001b[0;36m2\u001b[0m\u001b[0;34m)\u001b[0m\u001b[0;34m\u001b[0m\u001b[0m\n\u001b[1;32m      5\u001b[0m     \u001b[0my\u001b[0m \u001b[0;34m=\u001b[0m \u001b[0mdCGP\u001b[0m\u001b[0;34m(\u001b[0m\u001b[0;34m[\u001b[0m\u001b[0mx\u001b[0m\u001b[0;34m,\u001b[0m\u001b[0mc\u001b[0m\u001b[0;34m]\u001b[0m\u001b[0;34m)\u001b[0m\u001b[0;34m[\u001b[0m\u001b[0;36m0\u001b[0m\u001b[0;34m]\u001b[0m\u001b[0;34m\u001b[0m\u001b[0m\n\u001b[0;32m----> 6\u001b[0;31m     \u001b[0;32mreturn\u001b[0m \u001b[0;34m(\u001b[0m\u001b[0my\u001b[0m\u001b[0;34m-\u001b[0m\u001b[0mgdual\u001b[0m\u001b[0;34m(\u001b[0m\u001b[0myt\u001b[0m\u001b[0;34m)\u001b[0m\u001b[0;34m)\u001b[0m\u001b[0;34m**\u001b[0m\u001b[0;36m2\u001b[0m \u001b[0;34m/\u001b[0m \u001b[0;36m10\u001b[0m\u001b[0;34m\u001b[0m\u001b[0m\n\u001b[0m\u001b[1;32m      7\u001b[0m \u001b[0;34m\u001b[0m\u001b[0m\n\u001b[1;32m      8\u001b[0m \u001b[0;31m# This is the quadratic error of the expression when the constant is learned using a, one step, second order method.\u001b[0m\u001b[0;34m\u001b[0m\u001b[0;34m\u001b[0m\u001b[0m\n",
      "\u001b[0;31mKeyboardInterrupt\u001b[0m: "
     ]
    }
   ],
   "source": [
    "offsprings = 4\n",
    "max_gen=20000\n",
    "constant = 1.\n",
    "chromosome = [1] * offsprings\n",
    "fitness = [1] *offsprings\n",
    "cout_off = [1]*offsprings\n",
    "best_chromosome = dCGP.get()\n",
    "fit, cout = err2(dCGP,yt,constant)\n",
    "best_fitness = sum(fit.constant_cf)\n",
    "for g in range(max_gen):\n",
    "    for i in range(offsprings):\n",
    "        dCGP.set(best_chromosome)\n",
    "        cumsum=0\n",
    "        dCGP.mutate_active(i)\n",
    "        fit, cout = err2(dCGP, yt, constant)\n",
    "        fitness[i] = sum(fit.constant_cf)\n",
    "        chromosome[i] = dCGP.get()\n",
    "        cout_off[i] = cout\n",
    "    for i in range(offsprings):\n",
    "        if fitness[i] <= best_fitness:\n",
    "            if (fitness[i] != best_fitness):\n",
    "                best_chromosome = chromosome[i]\n",
    "                best_fitness = fitness[i]\n",
    "                dCGP.set(best_chromosome)\n",
    "                print(\"New best found: gen: \", g, \" value: \", fitness[i],  dCGP.simplify([\"x\",\"c\"]), cout_off[i])\n",
    "\n",
    "    if best_fitness < 1e-7:\n",
    "        break"
   ]
  },
  {
   "cell_type": "code",
   "execution_count": 221,
   "metadata": {
    "collapsed": false
   },
   "outputs": [
    {
     "name": "stdout",
     "output_type": "stream",
     "text": [
      "[c*x**3 - c*x**2 + x**4 - x**3]\n"
     ]
    }
   ],
   "source": [
    "dCGP.set(best_chromosome)\n",
    "print(dCGP.simplify([\"x\",\"c\"]))"
   ]
  },
  {
   "cell_type": "code",
   "execution_count": 232,
   "metadata": {
    "collapsed": false
   },
   "outputs": [
    {
     "name": "stdout",
     "output_type": "stream",
     "text": [
      "errore:  49.764807177026015\n",
      "dc:  5.684341886080801e-13\n",
      "dc2:  634.2095336055758\n"
     ]
    }
   ],
   "source": [
    "costante = 1.\n",
    "out, c = err2(dCGP, yt, costante)\n",
    "e = sum(out.constant_cf)\n",
    "a = sum(out.get_derivative({\"dc\":1}))\n",
    "b = sum(out.get_derivative({\"dc\":2}))\n",
    "print(\"errore: \", e)\n",
    "print(\"dc: \", a)\n",
    "print(\"dc2: \", b)"
   ]
  },
  {
   "cell_type": "code",
   "execution_count": 216,
   "metadata": {
    "collapsed": false
   },
   "outputs": [
    {
     "data": {
      "text/plain": [
       "0.0011509137010275164"
      ]
     },
     "execution_count": 216,
     "metadata": {},
     "output_type": "execute_result"
    }
   ],
   "source": [
    "-a/b"
   ]
  },
  {
   "cell_type": "code",
   "execution_count": null,
   "metadata": {
    "collapsed": true
   },
   "outputs": [],
   "source": []
  }
 ],
 "metadata": {
  "kernelspec": {
   "display_name": "Python 3",
   "language": "python",
   "name": "python3"
  },
  "language_info": {
   "codemirror_mode": {
    "name": "ipython",
    "version": 3
   },
   "file_extension": ".py",
   "mimetype": "text/x-python",
   "name": "python",
   "nbconvert_exporter": "python",
   "pygments_lexer": "ipython3",
   "version": "3.5.2"
  }
 },
 "nbformat": 4,
 "nbformat_minor": 1
}

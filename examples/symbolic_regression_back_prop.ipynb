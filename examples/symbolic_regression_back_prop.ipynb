{
 "cells": [
  {
   "cell_type": "markdown",
   "metadata": {},
   "source": [
    "# Learning constants in a symbolic regression task\n",
    "\n",
    "One of the long standing \"skeletons in the closet\" of GP techniques is the constant finding problem. Here we provide a novel solution where such constants are learned during evolution thanks to a second order back-propagation algorithm"
   ]
  },
  {
   "cell_type": "markdown",
   "metadata": {},
   "source": [
    "Lets first import dcgpy and pyaudi and set up things as to use dCGP on gduals defined over vectorized floats"
   ]
  },
  {
   "cell_type": "code",
   "execution_count": 151,
   "metadata": {
    "collapsed": false
   },
   "outputs": [],
   "source": [
    "from dcgpy import expression_gdual_vdouble as expression\n",
    "from dcgpy import kernel_set_gdual_vdouble as kernel_set\n",
    "from pyaudi import gdual_vdouble as gdual\n",
    "import pyaudi\n",
    "from matplotlib import pyplot as plt\n",
    "import numpy as np\n",
    "from random import randint\n",
    "%matplotlib inline"
   ]
  },
  {
   "cell_type": "markdown",
   "metadata": {
    "collapsed": true
   },
   "source": [
    "## 1 - We define the set of kernel functions we will be using"
   ]
  },
  {
   "cell_type": "code",
   "execution_count": 152,
   "metadata": {
    "collapsed": false
   },
   "outputs": [],
   "source": [
    "kernels = kernel_set([\"sum\", \"mul\", \"diff\",\"pdiv\"])() # note the call operator (returns the list of kernels)\n",
    "dCGP = expression(inputs=2, outputs=1, rows=1, cols=15, levels_back=16, arity=2, kernels=kernels, seed = 1)"
   ]
  },
  {
   "cell_type": "markdown",
   "metadata": {},
   "source": [
    "# 2 - We define the target functions we will use\n",
    "As target function, we will try to learn some variation to the koza quintic polynomial that is one of the basic tests devised for symbolic regression:\n",
    "\n",
    "P1: $x^5 - \\pi x^3 + x$\n",
    "\n",
    "P2: $x^5 - \\pi x^3 + \\frac{2\\pi}x$\n",
    "\n",
    "P3: $\\pi x^5 + e x^3 + x$\n",
    "\n",
    "where $\\pi$ and $e$ are present in the exrpessions and have thus to be learned"
   ]
  },
  {
   "cell_type": "code",
   "execution_count": 153,
   "metadata": {
    "collapsed": false
   },
   "outputs": [],
   "source": [
    "def targetP1(x):\n",
    "    return x**5 - np.pi*x**3 + x\n",
    "def targetP2(x):\n",
    "    return x**5 - np.pi*x**3 + 2*np.pi / x\n",
    "def targetP3(x):\n",
    "    return (np.e*x**5 + x**3)/(x + 1)\n"
   ]
  },
  {
   "cell_type": "code",
   "execution_count": 154,
   "metadata": {
    "collapsed": false
   },
   "outputs": [],
   "source": [
    "# This is the quadratic error of the expression when the constant value is fixed to cin\n",
    "# The target values are contained in yt\n",
    "def err(dCGP, yt, cin):\n",
    "    c = gdual([cin], \"c\", 2)\n",
    "    y = dCGP([x,c])[0]\n",
    "    return (y-gdual(yt))**2 / 10\n",
    "\n",
    "# This is the quadratic error of the expression when the constant is learned using a, one step, second order method.\n",
    "# The target values are contained in yt\n",
    "def err2(dCGP, yt,cin):\n",
    "    c = gdual([cin], \"c\", 2)\n",
    "    y = dCGP([x,c])[0]\n",
    "    dc =  sum(err(dCGP,yt,cin).get_derivative({\"dc\":1}))\n",
    "    dc2 = sum(err(dCGP,yt,cin).get_derivative({\"dc\":2}))\n",
    "    if dc2 != 0:\n",
    "        learned_constant = c - dc/dc2\n",
    "        y = dCGP([x, learned_constant])[0]\n",
    "    else:\n",
    "        learned_constant = c\n",
    "    return (y-gdual(yt))**2 / 10, learned_constant.constant_cf[0]"
   ]
  },
  {
   "cell_type": "markdown",
   "metadata": {},
   "source": [
    "# 3 - Problem P1"
   ]
  },
  {
   "cell_type": "code",
   "execution_count": 129,
   "metadata": {
    "collapsed": true
   },
   "outputs": [],
   "source": [
    "x = np.linspace(1,3,10)\n",
    "yt = targetP1(x)\n",
    "x = gdual(x)"
   ]
  },
  {
   "cell_type": "code",
   "execution_count": 132,
   "metadata": {
    "collapsed": false
   },
   "outputs": [
    {
     "name": "stdout",
     "output_type": "stream",
     "text": [
      "New best found: gen:  0  value:  4085.678641291084 [c**2*x] -0.09905548743227777\n",
      "New best found: gen:  1  value:  3937.7316332690107 [c**5*x**3 - c**4*x**2] 0.7147855554869127\n",
      "New best found: gen:  1  value:  67.33252622575444 [c*x**4 - 2*c*x**2] 2.346929735085598\n",
      "New best found: gen:  18  value:  65.80173002473113 [2*c*x**5] 0.3085477207392846\n",
      "New best found: gen:  32  value:  53.30829799719378 [2*c*x**2 + x**5] -3.868800493696562\n",
      "New best found: gen:  38  value:  10.206419789384034 [-c*x**2 + x**5 - x**4] 0.8447992392876195\n",
      "New best found: gen:  44  value:  0.6248353291985256 [-c*x**3 + x**5] 2.9965137674496463\n",
      "New best found: gen:  72  value:  0.6248353291985245 [-c*x**3 + x**5] 2.9965137674496463\n",
      "New best found: gen:  3696  value:  2.9635362575055256e-29 [-c*x**3 + x**5 + x] 3.1415926535897927\n"
     ]
    }
   ],
   "source": [
    "offsprings = 4\n",
    "max_gen=10000\n",
    "constant = 1.\n",
    "chromosome = [1] * offsprings\n",
    "fitness = [1] *offsprings\n",
    "cout_off = [1]*offsprings\n",
    "best_chromosome = dCGP.get()\n",
    "fit, cout = err2(dCGP,yt,constant)\n",
    "best_fitness = sum(fit.constant_cf)\n",
    "for g in range(max_gen):\n",
    "    for i in range(offsprings):\n",
    "        dCGP.set(best_chromosome)\n",
    "        cumsum=0\n",
    "        dCGP.mutate_active(i)\n",
    "        fit, cout = err2(dCGP,yt,constant)\n",
    "        fitness[i] = sum(fit.constant_cf )\n",
    "        chromosome[i] = dCGP.get()\n",
    "        cout_off[i] = cout\n",
    "    for i in range(offsprings):\n",
    "        if fitness[i] <= best_fitness:\n",
    "            if (fitness[i] != best_fitness):\n",
    "                best_chromosome = chromosome[i]\n",
    "                best_fitness = fitness[i]\n",
    "                dCGP.set(best_chromosome)\n",
    "                print(\"New best found: gen: \", g, \" value: \", fitness[i],  dCGP.simplify([\"x\",\"c\"]), cout_off[i])\n",
    "\n",
    "    if best_fitness < 1e-7:\n",
    "        break"
   ]
  },
  {
   "cell_type": "markdown",
   "metadata": {},
   "source": [
    "# 4 - Problem P2\n"
   ]
  },
  {
   "cell_type": "code",
   "execution_count": 159,
   "metadata": {
    "collapsed": true
   },
   "outputs": [],
   "source": [
    "x = np.linspace(0.1,3,10)\n",
    "yt = targetP2(x)\n",
    "x = gdual(x)"
   ]
  },
  {
   "cell_type": "code",
   "execution_count": 162,
   "metadata": {
    "collapsed": false
   },
   "outputs": [
    {
     "name": "stdout",
     "output_type": "stream",
     "text": [
      "New best found: gen:  0  value:  3209.5894376102124 [c**2*x**4/(c - x) - 2*c**2*x**2/(c - x) + c**2/(c - x) + c*x**4 - 2*c*x**4/(c - x) + 2*c*x**3/(c - x) + 2*c*x**2/(c - x) - 2*c*x/(c - x) - x**4 + x**4/(c - x) - 2*x**3/(c - x) + x**2/(c - x)] 1.5449450361025139\n",
      "New best found: gen:  2  value:  1075.6984537636474 [-c**2*x**2 + c**2 + c*x**4 + c*x**2 - c*x - x**4] 2.398806307587214\n",
      "New best found: gen:  3  value:  380.6023634263559 [c**2*x + c**2 - 2*c*x**3 - c*x + x**5] 1.5990573327001094\n",
      "New best found: gen:  6  value:  376.32362054974664 [c**2*x + c**2 - 2*c*x**3 + c*x + x**5] 1.810095032408087\n",
      "New best found: gen:  9  value:  50.18451575258108 [c**2*x + c**2/x - 2*c*x**3 + c*x + x**5] 2.231656721128762\n",
      "New best found: gen:  71  value:  34.26078387890098 [c**2 + c**2/x**2 - c*x**3 + 2*c + x**5 - x**4 + x**2] 0.834974028417865\n",
      "New best found: gen:  80  value:  34.26078387890097 [c**2 + c**2/x**2 - c*x**3 + 2*c + x**5 - x**4 + x**2] 0.834974028417865\n",
      "New best found: gen:  245  value:  12.866432557526977 [-c*x**3 + c*x + 2*c/x + x**5 - x**3 + 2*x] 2.8594365075685744\n",
      "New best found: gen:  270  value:  1.0825143771895336e-28 [-c*x**3 + 2*c/x + x**5] 3.1415926535897927\n"
     ]
    }
   ],
   "source": [
    "offsprings = 4\n",
    "max_gen=10000\n",
    "constant = 1.\n",
    "chromosome = [1] * offsprings\n",
    "fitness = [1] *offsprings\n",
    "cout_off = [1]*offsprings\n",
    "best_chromosome = dCGP.get()\n",
    "fit, cout = err2(dCGP,yt,constant)\n",
    "best_fitness = sum(fit.constant_cf)\n",
    "for g in range(max_gen):\n",
    "    for i in range(offsprings):\n",
    "        dCGP.set(best_chromosome)\n",
    "        cumsum=0\n",
    "        dCGP.mutate_active(i)\n",
    "        fit, cout = err2(dCGP,yt,constant)\n",
    "        fitness[i] = sum(fit.constant_cf )\n",
    "        chromosome[i] = dCGP.get()\n",
    "        cout_off[i] = cout\n",
    "    for i in range(offsprings):\n",
    "        if fitness[i] <= best_fitness:\n",
    "            if (fitness[i] != best_fitness):\n",
    "                best_chromosome = chromosome[i]\n",
    "                best_fitness = fitness[i]\n",
    "                dCGP.set(best_chromosome)\n",
    "                print(\"New best found: gen: \", g, \" value: \", fitness[i],  dCGP.simplify([\"x\",\"c\"]), cout_off[i])\n",
    "\n",
    "    if best_fitness < 1e-7:\n",
    "        break"
   ]
  },
  {
   "cell_type": "markdown",
   "metadata": {},
   "source": [
    "# 4 - Problem P3\n"
   ]
  },
  {
   "cell_type": "code",
   "execution_count": 168,
   "metadata": {
    "collapsed": false
   },
   "outputs": [],
   "source": [
    "x = np.linspace(-0.9,1.1,10)\n",
    "yt = targetP3(x)\n",
    "x = gdual(x)"
   ]
  },
  {
   "cell_type": "code",
   "execution_count": 169,
   "metadata": {
    "collapsed": false
   },
   "outputs": [
    {
     "name": "stdout",
     "output_type": "stream",
     "text": [
      "New best found: gen:  0  value:  73.72081061104146 [x**8 + 2*x**6 + 2*x**4 + x + x**4/c] 1.4773885669889213\n",
      "New best found: gen:  0  value:  66.66824160764467 [c/(x**2 + x) + x**6 - 2*x**5 + x**4] 0.035581376437456624\n",
      "New best found: gen:  1  value:  63.22109986023807 [x**6 - 2*x**5 + x**4 + x**3] 1.0\n",
      "New best found: gen:  1  value:  55.838240314736574 [0] 1.0\n",
      "New best found: gen:  2  value:  54.546686605835184 [c**2*x**4 - 2*c**2*x**3 + c**2*x**2 + 2*c*x**3 - 3*c*x**2 + c*x + x**2 - x] 0.8308912587171273\n",
      "New best found: gen:  4  value:  53.712638748254754 [c**2*x**3 + c**2*x**2 - c*x**3 + c*x**2 + c*x - x**2] 0.6673396524674569\n",
      "New best found: gen:  5  value:  50.87787218996387 [x**4 + x**3 - x**2] 1.0\n",
      "New best found: gen:  8  value:  50.24116350150763 [x**2 + x - 1] 1.0\n",
      "New best found: gen:  11  value:  35.20774238042942 [2*c*x - c - 2*x**3 + x**2] 3.8437963745175816\n",
      "New best found: gen:  14  value:  34.107940186050364 [0] -9.245398900435778e+16\n",
      "New best found: gen:  14  value:  19.001115811726184 [-c*x**2 + c*x + x**2 - x] 9.668310810728503\n",
      "New best found: gen:  17  value:  17.78333049961119 [-2*c*x**2 + 2*c*x + x**3 - x**2] 3.963022543340926\n",
      "New best found: gen:  18  value:  6.563023826018753 [c*x**4 - c*x**3] -14.809466579354696\n",
      "New best found: gen:  34  value:  5.89014052151347 [c*x**4 - c*x**3 + x**2 - x] -16.1965087809082\n",
      "New best found: gen:  64  value:  5.6588655400667935 [c*x**4 - c*x**3 + x**2] -15.449504680747577\n",
      "New best found: gen:  146  value:  5.250369067894101 [-c*x**4 + c*x**3 + x**5 - x**4 + x**2] 14.609300967144302\n",
      "New best found: gen:  163  value:  2.2484920728149196 [c*x**5 - c*x**4 + x**2] 18.23963822746528\n",
      "New best found: gen:  185  value:  1.0830439552280136 [c*x**7 - c*x**6] 22.50122138631093\n",
      "New best found: gen:  1559  value:  1.0218481221686768 [x**7/(c + x) - 2*x**6/(c + x) + x**5/(c + x)] 0.9881750818407924\n",
      "New best found: gen:  1588  value:  0.727032871118496 [c*x/(c + x) + x**5/(c + x) - x**4/(c + x)] 0.9891548202659313\n",
      "New best found: gen:  1677  value:  0.654900935614425 [2*x**3/(c**2 + c*x) - x**2/(c**2 + c*x)] 0.9974645196008541\n",
      "New best found: gen:  1685  value:  0.6542236808452528 [2*x**3/(c + x) - x**2/(c + x)] 0.9971663933261038\n",
      "New best found: gen:  1714  value:  0.5512514445162173 [c**2*x/(c + x) + 2*c*x**3/(c + x)] 1.0014469992136008\n",
      "New best found: gen:  1745  value:  0.5495527604685873 [c*x/(c + x) + 2*x**3/(c + x)] 1.001413331375239\n",
      "New best found: gen:  3344  value:  0.4355213107983821 [c*x/(c + x) + 3*x**3/(c + x) + x**2/(c + x)] 0.9975702734068431\n",
      "New best found: gen:  3397  value:  0.14938563334104688 [3*x**3/(c + x)] 0.9923966274984378\n",
      "New best found: gen:  4232  value:  0.14938563334104682 [3*x**3/(c + x)] 0.9923966274984378\n",
      "New best found: gen:  8025  value:  0.14938563334104676 [3*x**3/(c + x)] 0.9923966274984378\n",
      "New best found: gen:  8144  value:  0.14938563334104651 [3*x**3/(c + x)] 0.9923966274984378\n",
      "New best found: gen:  9991  value:  0.14938563334103572 [3*x**3/(c + x)] 0.9923966274984388\n",
      "New best found: gen:  10000  value:  0.14938563334103538 [3*x**3/(c + x)] 0.9923966274984388\n",
      "New best found: gen:  13102  value:  0.14908939484514566 [-c*x**2/(c + x) + 3*x**3/(c + x) + x**2/(c + x)] 0.9920175346364294\n",
      "New best found: gen:  14392  value:  0.14491528574985554 [3*x**3/(c**2 + c*x) - x**2 + x**2/c**2] 0.9930757996202549\n",
      "New best found: gen:  15955  value:  0.14491528574985515 [3*x**3/(c**2 + c*x) - x**2 + x**2/c**2] 0.9930757996202549\n",
      "New best found: gen:  17501  value:  0.1400945536274905 [-c*x**2/(c**2 + c*x - c*x/(c + x) - x**2/(c + x)) + 3*x**3/(c**3 + 2*c**2*x - c**2*x/(c + x) + c*x**2 - 2*c*x**2/(c + x) - x**3/(c + x)) + x**2/(c**4 + 2*c**3*x - 2*c**3*x/(c + x) + c**2*x**2 + c**2*x**2/(c**2 + 2*c*x + x**2) - 4*c**2*x**2/(c + x) + 2*c*x**3/(c**2 + 2*c*x + x**2) - 2*c*x**3/(c + x) + x**4/(c**2 + 2*c*x + x**2))] 0.9930759331251494\n"
     ]
    }
   ],
   "source": [
    "offsprings = 4\n",
    "max_gen=20000\n",
    "constant = 1.\n",
    "chromosome = [1] * offsprings\n",
    "fitness = [1] *offsprings\n",
    "cout_off = [1]*offsprings\n",
    "best_chromosome = dCGP.get()\n",
    "fit, cout = err2(dCGP,yt,constant)\n",
    "best_fitness = sum(fit.constant_cf)\n",
    "for g in range(max_gen):\n",
    "    for i in range(offsprings):\n",
    "        dCGP.set(best_chromosome)\n",
    "        cumsum=0\n",
    "        dCGP.mutate_active(i)\n",
    "        fit, cout = err2(dCGP,yt,constant)\n",
    "        fitness[i] = sum(fit.constant_cf )\n",
    "        chromosome[i] = dCGP.get()\n",
    "        cout_off[i] = cout\n",
    "    for i in range(offsprings):\n",
    "        if fitness[i] <= best_fitness:\n",
    "            if (fitness[i] != best_fitness):\n",
    "                best_chromosome = chromosome[i]\n",
    "                best_fitness = fitness[i]\n",
    "                dCGP.set(best_chromosome)\n",
    "                print(\"New best found: gen: \", g, \" value: \", fitness[i],  dCGP.simplify([\"x\",\"c\"]), cout_off[i])\n",
    "\n",
    "    if best_fitness < 1e-7:\n",
    "        break"
   ]
  },
  {
   "cell_type": "code",
   "execution_count": 212,
   "metadata": {
    "collapsed": false
   },
   "outputs": [
    {
     "name": "stdout",
     "output_type": "stream",
     "text": [
      "[-c*x**2/(c**2 + c*x - c*x/(c + x) - x**2/(c + x)) + 3*x**3/(c**3 + 2*c**2*x - c**2*x/(c + x) + c*x**2 - 2*c*x**2/(c + x) - x**3/(c + x)) + x**2/(c**4 + 2*c**3*x - 2*c**3*x/(c + x) + c**2*x**2 + c**2*x**2/(c**2 + 2*c*x + x**2) - 4*c**2*x**2/(c + x) + 2*c*x**3/(c**2 + 2*c*x + x**2) - 2*c*x**3/(c + x) + x**4/(c**2 + 2*c*x + x**2))]\n"
     ]
    }
   ],
   "source": [
    "dCGP.set(best_chromosome)\n",
    "print(dCGP.simplify([\"x\",\"c\"]))"
   ]
  },
  {
   "cell_type": "code",
   "execution_count": 213,
   "metadata": {
    "collapsed": false
   },
   "outputs": [
    {
     "name": "stdout",
     "output_type": "stream",
     "text": [
      "errore:  0.12925393681619088\n",
      "dc:  -0.6602711548105689\n",
      "dc2:  14849.838034660796\n"
     ]
    }
   ],
   "source": [
    "costante = 0.9930759331251494\n",
    "out = err2(dCGP, yt, costante)[0]\n",
    "e = sum(out.constant_cf)\n",
    "a = sum(out.get_derivative({\"dc\":1}))\n",
    "b = sum(out.get_derivative({\"dc\":2}))\n",
    "print(\"errore: \", e)\n",
    "print(\"dc: \", a)\n",
    "print(\"dc2: \", b)"
   ]
  },
  {
   "cell_type": "code",
   "execution_count": 214,
   "metadata": {
    "collapsed": false
   },
   "outputs": [
    {
     "data": {
      "text/plain": [
       "4.4463188976838624e-05"
      ]
     },
     "execution_count": 214,
     "metadata": {},
     "output_type": "execute_result"
    }
   ],
   "source": [
    "-a/b"
   ]
  },
  {
   "cell_type": "code",
   "execution_count": null,
   "metadata": {
    "collapsed": true
   },
   "outputs": [],
   "source": []
  }
 ],
 "metadata": {
  "kernelspec": {
   "display_name": "Python 3",
   "language": "python",
   "name": "python3"
  },
  "language_info": {
   "codemirror_mode": {
    "name": "ipython",
    "version": 3
   },
   "file_extension": ".py",
   "mimetype": "text/x-python",
   "name": "python",
   "nbconvert_exporter": "python",
   "pygments_lexer": "ipython3",
   "version": "3.5.2"
  }
 },
 "nbformat": 4,
 "nbformat_minor": 1
}

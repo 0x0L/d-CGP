{
 "cells": [
  {
   "cell_type": "markdown",
   "metadata": {},
   "source": [
    "# Learning constants in a symbolic regression task\n",
    "\n",
    "One of the long standing \"skeletons in the closet\" of GP techniques is the constant finding problem. It is widely acknoledged that the \"ephemeral random constant\", de facto the main solution proposed to this problem, is far from being satisfactory\n",
    "\n",
    "\n",
    "Using dCGP, we are here able to succesfully learn constants as well as expressions during evolution thanks to the hybridization of the evolutionary strategy with what may, essentially, be seen as a second order back-propagation algorithm"
   ]
  },
  {
   "cell_type": "markdown",
   "metadata": {},
   "source": [
    "Lets first import dcgpy and pyaudi and set up things as to compute our CGP using the type \"gdual\" and thus get for free all derivatives"
   ]
  },
  {
   "cell_type": "code",
   "execution_count": 1,
   "metadata": {
    "collapsed": false
   },
   "outputs": [],
   "source": [
    "from dcgpy import expression_gdual_vdouble as expression\n",
    "from dcgpy import kernel_set_gdual_vdouble as kernel_set\n",
    "from pyaudi import gdual_vdouble as gdual\n",
    "import pyaudi\n",
    "from matplotlib import pyplot as plt\n",
    "import numpy as np\n",
    "from random import randint\n",
    "%matplotlib inline"
   ]
  },
  {
   "cell_type": "markdown",
   "metadata": {
    "collapsed": true
   },
   "source": [
    "## 1 - The set of kernel functions"
   ]
  },
  {
   "cell_type": "code",
   "execution_count": 2,
   "metadata": {
    "collapsed": false
   },
   "outputs": [],
   "source": [
    "# note he use of the protected division \"pdiv\" (not necessary here)\n",
    "# note the call operator (returns the list of kernels)\n",
    "kernels = kernel_set([\"sum\", \"mul\", \"diff\",\"pdiv\"])() "
   ]
  },
  {
   "cell_type": "markdown",
   "metadata": {},
   "source": [
    "## 2 - The ES-(1+$\\lambda$) algorithm"
   ]
  },
  {
   "cell_type": "code",
   "execution_count": 28,
   "metadata": {
    "collapsed": true
   },
   "outputs": [],
   "source": [
    "def run_experiment(dCGP, offsprings, max_gen, x, yt, screen_output):\n",
    "    # The offsprings chromosome, fitness and constant\n",
    "    chromosome = [1] * offsprings\n",
    "    fitness = [1] *offsprings\n",
    "    constant = [1]*offsprings\n",
    "    # Init the best as the initial random dCGP\n",
    "    best_chromosome = dCGP.get()\n",
    "    best_constant = 1.\n",
    "    fit, _ = err2(dCGP, x, yt, best_constant)\n",
    "    best_fitness = sum(fit.constant_cf)\n",
    "    # Main loop over generations\n",
    "    for g in range(max_gen):\n",
    "        for i in range(offsprings):\n",
    "            dCGP.set(best_chromosome)\n",
    "            cumsum=0\n",
    "            dCGP.mutate_active(i+1)\n",
    "            fit, constant[i] = err2(dCGP, x, yt, best_constant)\n",
    "            fitness[i] = sum(fit.constant_cf )\n",
    "            chromosome[i] = dCGP.get()\n",
    "        for i in range(offsprings):\n",
    "            if fitness[i] <= best_fitness:\n",
    "                if (fitness[i] != best_fitness):\n",
    "                    best_chromosome = chromosome[i]\n",
    "                    best_fitness = fitness[i]\n",
    "                    best_constant = constant[i]\n",
    "                    dCGP.set(best_chromosome)\n",
    "                    if screen_output:\n",
    "                        print(\"New best found: gen: \", g, \" value: \", fitness[i],  dCGP.simplify([\"x\",\"c\"]), \"c =\", best_constant)\n",
    "\n",
    "        if best_fitness < 1e-7:\n",
    "            break\n",
    "    return g, best_chromosome, best_constant"
   ]
  },
  {
   "cell_type": "markdown",
   "metadata": {},
   "source": [
    "## 3 - The test problems\n",
    "As target functions, we define three different problems of increasing complexity:\n",
    "\n",
    "P1: $x^5 - \\pi x^3 + x$\n",
    "\n",
    "P2: $x^5 - \\pi x^3 + \\frac{2\\pi}x$\n",
    "\n",
    "P3: $\\frac{e x^5 + x^3}{x + 1}$\n",
    "\n",
    "note how $\\pi$ and $e$ are present in the expressions."
   ]
  },
  {
   "cell_type": "code",
   "execution_count": 4,
   "metadata": {
    "collapsed": false
   },
   "outputs": [],
   "source": [
    "# The following functions create the target values for a gridded input x for different test problems\n",
    "def data_P1(x):\n",
    "    return x**5 - np.pi*x**3 + x\n",
    "def data_P2(x):\n",
    "    return x**5 - np.pi*x**3 + 2*np.pi / x\n",
    "def data_P3(x):\n",
    "    return (np.e*x**5 + x**3)/(x + 1)\n"
   ]
  },
  {
   "cell_type": "markdown",
   "metadata": {},
   "source": [
    "## 4 - The error functions"
   ]
  },
  {
   "cell_type": "code",
   "execution_count": 5,
   "metadata": {
    "collapsed": false
   },
   "outputs": [],
   "source": [
    "# This is the quadratic error of a dCGP expression when the constant value is cin. The error is computed\n",
    "# over the input points xin (of type gdual, order 0 as we are not interested in expanding the program w.r.t. these)\n",
    "# The target values are contained in yt (of type gdual, order 0 as we are not interested in expanding the program w.r.t. these)\n",
    "def err(dCGP, xin, yt, cin):\n",
    "    c = gdual([cin], \"c\", 2)\n",
    "    y = dCGP([xin,c])[0]\n",
    "    return (y-yt)**2\n",
    "\n",
    "# This is the quadratic error of the expression when the constant value is learned using a, one step, \n",
    "# second order method.\n",
    "def err2(dCGP, xin, yt,cin):\n",
    "    c = gdual([cin], \"c\", 2)\n",
    "    y = dCGP([xin,c])[0]\n",
    "    dc =  sum(err(dCGP,xin,yt,cin).get_derivative({\"dc\":1}))\n",
    "    dc2 = sum(err(dCGP,xin,yt,cin).get_derivative({\"dc\":2}))\n",
    "    if dc2 != 0:\n",
    "        learned_constant = c - dc/dc2\n",
    "        y = dCGP([xin, learned_constant])[0]\n",
    "    else:\n",
    "        learned_constant = c\n",
    "    return (y-yt)**2, learned_constant.constant_cf[0]"
   ]
  },
  {
   "cell_type": "markdown",
   "metadata": {},
   "source": [
    "##  Problem P1:  $x^5 - \\pi x^3 + x$"
   ]
  },
  {
   "cell_type": "code",
   "execution_count": 30,
   "metadata": {
    "collapsed": false
   },
   "outputs": [],
   "source": [
    "x = np.linspace(1,3,10)\n",
    "x = gdual(x)\n",
    "yt = data_P1(x)"
   ]
  },
  {
   "cell_type": "code",
   "execution_count": 31,
   "metadata": {
    "collapsed": false
   },
   "outputs": [
    {
     "name": "stdout",
     "output_type": "stream",
     "text": [
      "restart: \t gen: \t expression:\n",
      "2 \t\t 68 \t ['(x+(((x*x)*x)*(c+((x*x)+c))))']  a.k.a  [2*c*x**3 + x**5 + x] c =  -1.5707963267948968\n",
      "3 \t\t 413 \t ['((x*((x*x)*(c+(x*x))))+x)']  a.k.a  [c*x**3 + x**5 + x] c =  -3.1415926535897927\n",
      "6 \t\t 738 \t ['(x-(((c-(x*x))*x)*(x*x)))']  a.k.a  [-c*x**3 + x**5 + x] c =  3.141592653589793\n",
      "7 \t\t 245 \t ['(((((x*x)*(x*x))*(c+(x*x)))/x)+((x*x)/x))']  a.k.a  [c*x**3 + x**5 + x] c =  -3.1415926535897927\n",
      "13 \t\t 967 \t ['(x+(((x*x)*x)*(c+(x*x))))']  a.k.a  [c*x**3 + x**5 + x] c =  -3.1415926535897927\n",
      "16 \t\t 466 \t ['(((((x-x)+(x*x))/x)-((x*((x-x)+(x*x)))*(c-(x*x))))+(x*((x-x)+(x*x))))']  a.k.a  [-c*x**3 + x**5 + x**3 + x] c =  4.141592653589793\n",
      "20 \t\t 408 \t ['(((x*x)+(x/(x*c)))*(((x*x)+((c-c)+c))*x))']  a.k.a  [c*x**3 + x**5 + x + x**3/c] c =  -2.7821597820194426\n",
      "30 \t\t 747 \t ['((x*((x*x)*((c+c)+(x*x))))+x)']  a.k.a  [2*c*x**3 + x**5 + x] c =  -1.5707963267948963\n",
      "42 \t\t 402 \t ['(((x/x)*x)+((c+((x*((x/x)*x))+(x/x)))*((x*((x/x)*x))*x)))']  a.k.a  [c*x**3 + x**5 + x**3 + x] c =  -4.141592653589793\n",
      "45 \t\t 198 \t ['(x+(((x*x)+c)*((x*x)/(x/(x*x)))))']  a.k.a  [c*x**3 + x**5 + x] c =  -3.1415926535897927\n",
      "46 \t\t 159 \t ['((((c/c)-(c*(x*x)))+((((x*x)-c)*(x*x))/(c/c)))*x)']  a.k.a  [-2*c*x**3 + x**5 + x] c =  1.5707963267948966\n",
      "48 \t\t 291 \t ['(x+(((x*x)*((x*x)-c))*x))']  a.k.a  [-c*x**3 + x**5 + x] c =  3.1415926535897927\n",
      "49 \t\t 861 \t ['(x-((((x+x)-x)*(x*x))*(c-(x*x))))']  a.k.a  [-c*x**3 + x**5 + x] c =  3.1415926535897944\n",
      "50 \t\t 480 \t ['(((x*(((((x*x)+c)*(x*x))-((x*x)+c))-((x*x)+c)))/(((((x*x)+c)*(x*x))-((x*x)+c))-((x*x)+c)))+((((x*x)+c)*(x*x))*x))']  a.k.a  [c*x**3 + x**5 + x] c =  -3.1415926535897927\n",
      "55 \t\t 472 \t ['((((x*x)-c)*((x*x)*x))+x)']  a.k.a  [-c*x**3 + x**5 + x] c =  3.1415926535897927\n",
      "56 \t\t 687 \t ['(((((x*x)-c)*x)*(x*x))+x)']  a.k.a  [-c*x**3 + x**5 + x] c =  3.141592653589793\n",
      "62 \t\t 284 \t ['((((x*x)+c)*(x*(x*x)))+((x+c)-c))']  a.k.a  [c*x**3 + x**5 + x] c =  -3.1415926535897927\n",
      "69 \t\t 170 \t ['(((c+(x*x))*(((x*x)/x)*(x*x)))+((x*x)/x))']  a.k.a  [c*x**3 + x**5 + x] c =  -3.1415926535897927\n",
      "78 \t\t 871 \t ['((x*(x*x))*((((x/x)/(x*x))+(x*x))+c))']  a.k.a  [c*x**3 + x**5 + x] c =  -3.141592653589793\n",
      "92 \t\t 120 \t ['(x-(x*((c-(x*x))*(x*x))))']  a.k.a  [-c*x**3 + x**5 + x] c =  3.1415926535897927\n",
      "94 \t\t 354 \t ['((((c+(x*x))*(x*x))/(x/(x*x)))+x)']  a.k.a  [c*x**3 + x**5 + x] c =  -3.1415926535897927\n",
      "98 \t\t 40 \t ['((((c+(x*x))*(((x*x)*x)*c))-((c+(x*x))*(((x*x)*x)*c)))+(((c+(x*x))*((x*x)*x))+x))']  a.k.a  [c*x**3 + x**5 + x] c =  -3.1415926535897927\n"
     ]
    }
   ],
   "source": [
    "# We run nexp experiments and accumulate statistic for the ERT\n",
    "nexp = 100\n",
    "offsprings = 4\n",
    "max_gen=1000\n",
    "res = []\n",
    "print(\"restart: \\t gen: \\t expression:\")\n",
    "for i in range(nexp):\n",
    "    dCGP = expression(inputs=2, outputs=1, rows=1, cols=15, levels_back=16, arity=2, kernels=kernels, seed = randint(0,1233456))\n",
    "    g, best_chromosome, best_constant = run_experiment(dCGP, offsprings,max_gen,x,yt, screen_output=False)\n",
    "    res.append(g)\n",
    "    dCGP.set(best_chromosome)\n",
    "    if g < (max_gen-1):\n",
    "        print(i, \"\\t\\t\", res[i], \"\\t\", dCGP([\"x\",\"c\"]), \" a.k.a \", dCGP.simplify([\"x\",\"c\"]), \"c = \", best_constant)\n",
    "res = np.array(res)"
   ]
  },
  {
   "cell_type": "code",
   "execution_count": 32,
   "metadata": {
    "collapsed": false
   },
   "outputs": [
    {
     "name": "stdout",
     "output_type": "stream",
     "text": [
      "ERT Expected run time = avg. number of dCGP evaluations needed:  15884.1818182\n"
     ]
    }
   ],
   "source": [
    "mean_gen = sum(res) / sum(res<(max_gen-1))\n",
    "print(\"ERT Expected run time = avg. number of dCGP evaluations needed: \", mean_gen * offsprings)"
   ]
  },
  {
   "cell_type": "markdown",
   "metadata": {},
   "source": [
    "# 4 - Problem P2 - $x^5 - \\pi x^3 + \\frac{2\\pi}x$\n"
   ]
  },
  {
   "cell_type": "code",
   "execution_count": 33,
   "metadata": {
    "collapsed": false
   },
   "outputs": [],
   "source": [
    "x = np.linspace(0.1,5,10) # we include points close to zero here to favour learning of 1/x\n",
    "x = gdual(x)\n",
    "yt = data_P2(x)\n"
   ]
  },
  {
   "cell_type": "code",
   "execution_count": 34,
   "metadata": {
    "collapsed": false
   },
   "outputs": [
    {
     "name": "stdout",
     "output_type": "stream",
     "text": [
      "restart: \t gen: \t expression:\n",
      "4 \t\t 3788 \t ['((c/x)+(((c/(x*x))+(((x*x)-c)*(x*x)))*x))']  a.k.a  [-c*x**3 + 2*c/x + x**5] c =  3.141592653589791\n",
      "9 \t\t 4242 \t ['((((x*(x*x))*c)+((x*x)*(x*(x*x))))-((c+c)/x))']  a.k.a  [c*x**3 - 2*c/x + x**5] c =  -3.141592653589793\n",
      "11 \t\t 808 \t ['(((x*x)*(x*(x*x)))-((c/x)+((c/x)-((x*(x*x))*c))))']  a.k.a  [c*x**3 - 2*c/x + x**5] c =  -3.141592653589793\n",
      "12 \t\t 2388 \t ['(((((x*x)*(x*x))+(c/(x*x)))+((c/(x*x))-(c*(x*x))))*x)']  a.k.a  [-c*x**3 + 2*c/x + x**5] c =  3.141592653589793\n",
      "19 \t\t 3782 \t ['(((((x*x)*(c+(x*x)))*(x*x))-(c+c))/x)']  a.k.a  [c*x**3 - 2*c/x + x**5] c =  -3.141592653589794\n",
      "25 \t\t 1475 \t ['(((x*(x*x))*((x*x)-c))+((c/x)+(c/x)))']  a.k.a  [-c*x**3 + 2*c/x + x**5] c =  3.1415926535897944\n",
      "27 \t\t 3839 \t ['((((c/x)-(((x*x)-c)-((((x*x)-c)*x)*(x*x))))+((x*x)-c))+(c/x))']  a.k.a  [-c*x**3 + 2*c/x + x**5] c =  3.1415926535897896\n",
      "29 \t\t 964 \t ['((((x*x)-c)*((x*x)*x))+((c/x)+(c/x)))']  a.k.a  [-c*x**3 + 2*c/x + x**5] c =  3.141592653589794\n",
      "34 \t\t 3963 \t ['(((c+c)/x)-(((c*(x*x))-(((x*x)/c)*(c*(x*x))))*x))']  a.k.a  [-c*x**3 + 2*c/x + x**5] c =  3.141592653589792\n",
      "35 \t\t 3885 \t ['((((x*x)+c)-((c/(x*x))*((x/((x*x)*x))+(x/((x*x)*x)))))*((x*x)*x))']  a.k.a  [c*x**3 - 2*c/x + x**5] c =  -3.141592653589791\n",
      "39 \t\t 2178 \t ['((((x*(x*x))*(x*x))-(c*(x*(x*x))))+((c/x)+(c/x)))']  a.k.a  [-c*x**3 + 2*c/x + x**5] c =  3.1415926535897922\n",
      "51 \t\t 1784 \t ['(x*(((c/(x*x))+(c/(x*x)))-((x*x)*(c-(x*x)))))']  a.k.a  [-c*x**3 + 2*c/x + x**5] c =  3.1415926535897922\n",
      "52 \t\t 3038 \t ['(x*((((c/(x*x))+((x*x)-c))*(x*x))+(((c/(x*x))+((x*x)-c))+((c/(x*x))-(x*x)))))']  a.k.a  [-c*x**3 + 2*c/x + x**5] c =  3.1415926535897953\n",
      "54 \t\t 794 \t ['((c/x)+((c/x)+((x*((x*x)-c))*(x*x))))']  a.k.a  [-c*x**3 + 2*c/x + x**5] c =  3.1415926535897913\n",
      "58 \t\t 1411 \t ['((((x*x)*(x*x))*(x+(c/x)))-((c/x)+(c/x)))']  a.k.a  [c*x**3 - 2*c/x + x**5] c =  -3.141592653589795\n",
      "64 \t\t 2640 \t ['((((((x*x)+c)*(x*x))-(c/(x*x)))-(c/(x*x)))*x)']  a.k.a  [c*x**3 - 2*c/x + x**5] c =  -3.1415926535897922\n",
      "68 \t\t 444 \t ['((((c-(x*x))/((c-(x*x))*x))*c)+((c/x)-((((c-(x*x))*x)/((c-(x*x))/((c-(x*x))*x)))*x)))']  a.k.a  [-c*x**3 + 2*c/x + x**5] c =  3.141592653589792\n",
      "73 \t\t 2562 \t ['((((x*x)*((x*x)+c))*x)-((c/x)+(c/x)))']  a.k.a  [c*x**3 - 2*c/x + x**5] c =  -3.141592653589792\n",
      "75 \t\t 1181 \t ['((((x*x)-c)*((x*x)*x))+((c*((x*x)+(x*x)))/((x*x)*x)))']  a.k.a  [-c*x**3 + 2*c/x + x**5] c =  3.1415926535897922\n",
      "78 \t\t 1914 \t ['(((c+c)/x)-((c-(x*x))*((x*x)*x)))']  a.k.a  [-c*x**3 + 2*c/x + x**5] c =  3.1415926535897936\n",
      "82 \t\t 4433 \t ['(((c+(x*x))*(x*(x*x)))-(((c/(x*(x*x)))+(c/(x*(x*x))))*(x*x)))']  a.k.a  [c*x**3 - 2*c/x + x**5] c =  -3.141592653589793\n",
      "87 \t\t 4776 \t ['((((x*x)+(c+c))*(x*(x*x)))-(((c+c)/((x*x)/x))+((c+c)/((x*x)/x))))']  a.k.a  [2*c*x**3 - 4*c/x + x**5] c =  -1.5707963267948954\n",
      "95 \t\t 940 \t ['((((x*x)*x)*((x*x)-c))-((((x*x)-c)-((x*x)+c))/x))']  a.k.a  [-c*x**3 + 2*c/x + x**5] c =  3.1415926535897922\n",
      "99 \t\t 3942 \t ['(((x*((x*x)+c))*(x*x))-((c/x)+(c/x)))']  a.k.a  [c*x**3 - 2*c/x + x**5] c =  -3.141592653589792\n"
     ]
    }
   ],
   "source": [
    "# We run nexp experiments and accumulate statistic for the ERT\n",
    "nexp = 100\n",
    "offsprings = 4\n",
    "max_gen=5000\n",
    "res = []\n",
    "print(\"restart: \\t gen: \\t expression:\")\n",
    "for i in range(nexp):\n",
    "    dCGP = expression(inputs=2, outputs=1, rows=1, cols=15, levels_back=16, arity=2, kernels=kernels, seed = randint(0,1233456))\n",
    "    g, best_chromosome, best_constant = run_experiment(dCGP, offsprings,max_gen,x,yt, screen_output=False)\n",
    "    res.append(g)\n",
    "    dCGP.set(best_chromosome)\n",
    "    if g < (max_gen-1):\n",
    "        print(i, \"\\t\\t\", res[i], \"\\t\", dCGP([\"x\",\"c\"]), \" a.k.a \", dCGP.simplify([\"x\",\"c\"]), \"c = \", best_constant)\n",
    "res = np.array(res)"
   ]
  },
  {
   "cell_type": "code",
   "execution_count": 35,
   "metadata": {
    "collapsed": false
   },
   "outputs": [
    {
     "name": "stdout",
     "output_type": "stream",
     "text": [
      "ERT Expected run time = avg. number of dCGP evaluations needed:  73515.8333333\n"
     ]
    }
   ],
   "source": [
    "mean_gen = sum(res) / sum(res<(max_gen-1))\n",
    "print(\"ERT Expected run time = avg. number of dCGP evaluations needed: \", mean_gen * offsprings)"
   ]
  },
  {
   "cell_type": "markdown",
   "metadata": {},
   "source": [
    "# 4 - Problem P3 - $\\frac{e x^5 + x^3}{x + 1}$\n"
   ]
  },
  {
   "cell_type": "code",
   "execution_count": 41,
   "metadata": {
    "collapsed": false
   },
   "outputs": [],
   "source": [
    "x = np.linspace(-0.9,1,10)\n",
    "x = gdual(x)\n",
    "yt = data_P3(x)\n"
   ]
  },
  {
   "cell_type": "code",
   "execution_count": 42,
   "metadata": {
    "collapsed": false
   },
   "outputs": [
    {
     "name": "stdout",
     "output_type": "stream",
     "text": [
      "restart: \t gen: \t expression:\n",
      "2 \t\t 4681 \t ['((((x*x)*(x*x))*(((c+c)*(x*x))+((x*x)/(x*x))))/((x*x)+x))']  a.k.a  [2*c*x**6/(x**2 + x) + x**4/(x**2 + x)] c =  1.359140914229522\n",
      "15 \t\t 847 \t ['(((x*x)*x)*((x/((x*x)+x))+((x/((x*x)+x))*((x*x)*(c+c)))))']  a.k.a  [2*c*x**6/(x**2 + x) + x**4/(x**2 + x)] c =  1.3591409142295228\n",
      "27 \t\t 3606 \t ['((((c*(x*x))+(x/x))*(x*x))/((x/(x*x))+(x/x)))']  a.k.a  [c*x**4/(1 + 1/x) + x**2/(1 + 1/x)] c =  2.7182818284590486\n",
      "30 \t\t 3211 \t ['(((c*x)*x)*(((((c*x)+(c*x))*((c*x)*x))+x)/(c+(c*x))))']  a.k.a  [2*c**3*x**5/(c*x + c) + c*x**3/(c*x + c)] c =  1.165825292296718\n",
      "38 \t\t 783 \t ['((x*(c*x))*((x-((c*x)*(x*x)))/(c+(c*x))))']  a.k.a  [-c**2*x**5/(c*x + c) + c*x**3/(c*x + c)] c =  -2.7182818284590367\n",
      "52 \t\t 2651 \t ['((x*x)*(((x-(x*x))*((((x*x)*c)*c)/(((x*x)*c)*c)))-((((x*x)*c)*(x*x))/(x+(x*x)))))']  a.k.a  [-c*x**6/(x**2 + x) - x**4 + x**3] c =  -3.718281828459044\n",
      "65 \t\t 459 \t ['((((c*x)*(x*x))*x)-(((c*x)*(((c*x)*(x*x))/(c+(c*x))))-(((c*x)*(x*x))/(c+(c*x)))))']  a.k.a  [-c**2*x**4/(c*x + c) + c*x**4 + c*x**3/(c*x + c)] c =  2.718281828459049\n",
      "70 \t\t 731 \t ['((((x*(c*x))*x)+x)*((((x*(c*x))*((x*(c*x))*x))/(c*x))/(((x*(c*x))*x)+(x*(c*x)))))']  a.k.a  [c**2*x**7/(c*x**3 + c*x**2) + c*x**5/(c*x**3 + c*x**2)] c =  2.718281828459048\n",
      "71 \t\t 3102 \t ['(((x*((c*x)*(c*x)))*((((c*x)*(c*x))+((((c*x)*(c*x))*(x*((c*x)*(c*x))))/(c*x)))/(c+(c*x))))/(c*((c*x)*(c*x))))']  a.k.a  [c**3*x**5/(c**2*x + c**2) + c**2*x**3/(c**2*x + c**2)] c =  2.718281828459041\n",
      "81 \t\t 4570 \t ['((((x*x)-(c*((x*x)*(x*x))))/((x*x)+x))*(((x*x)-(c*((x*x)*(x*x))))+(c*((x*x)*(x*x)))))']  a.k.a  [-c*x**6/(x**2 + x) + x**4/(x**2 + x)] c =  -2.718281828459045\n",
      "87 \t\t 4379 \t ['(((c*((x*x)/((x*x)+x)))*(((((x*x)+x)-x)*(((x*x)+x)-x))-(x/c)))+(((x*x)+x)-x))']  a.k.a  [c*x**6/(x**2 + x) - x**3/(x**2 + x) + x**2] c =  2.7182818284592045\n",
      "91 \t\t 1148 \t ['((((x*x)*(x*x))+(((x*x)*(x*x))*((x*x)*c)))/((x*x)+x))']  a.k.a  [c*x**6/(x**2 + x) + x**4/(x**2 + x)] c =  2.7182818284590455\n",
      "97 \t\t 4428 \t ['((x*x)*(x*((((x*x)*c)*(x/(x+(x*x))))+(x/(x+(x*x))))))']  a.k.a  [c*x**6/(x**2 + x) + x**4/(x**2 + x)] c =  2.7182818284590446\n",
      "99 \t\t 2246 \t ['(((((x/(x+(x*x)))*(x*(x*x)))/x)*(c*(x*(x*x))))+((x/(x+(x*x)))*(x*(x*x))))']  a.k.a  [c*x**6/(x**2 + x) + x**4/(x**2 + x)] c =  2.7182818284590446\n"
     ]
    }
   ],
   "source": [
    "# We run nexp experiments and accumulate statistic for the ERT\n",
    "nexp = 100\n",
    "offsprings = 4\n",
    "max_gen=5000\n",
    "res = []\n",
    "print(\"restart: \\t gen: \\t expression:\")\n",
    "for i in range(nexp):\n",
    "    dCGP = expression(inputs=2, outputs=1, rows=1, cols=15, levels_back=16, arity=2, kernels=kernels, seed = randint(0,1233456))\n",
    "    g, best_chromosome, best_constant = run_experiment(dCGP, offsprings,max_gen,x,yt, screen_output=False)\n",
    "    res.append(g)\n",
    "    dCGP.set(best_chromosome)\n",
    "    if g < (max_gen-1):\n",
    "        print(i, \"\\t\\t\", res[i], \"\\t\", dCGP([\"x\",\"c\"]), \" a.k.a \", dCGP.simplify([\"x\",\"c\"]), \"c = \", best_constant)\n",
    "res = np.array(res)"
   ]
  },
  {
   "cell_type": "code",
   "execution_count": 43,
   "metadata": {
    "collapsed": false
   },
   "outputs": [
    {
     "name": "stdout",
     "output_type": "stream",
     "text": [
      "ERT Expected run time = avg. number of dCGP evaluations needed:  133358.857143\n"
     ]
    }
   ],
   "source": [
    "mean_gen = sum(res) / sum(res<(max_gen-1))\n",
    "print(\"ERT Expected run time = avg. number of dCGP evaluations needed: \", mean_gen * offsprings)"
   ]
  },
  {
   "cell_type": "code",
   "execution_count": null,
   "metadata": {
    "collapsed": true
   },
   "outputs": [],
   "source": []
  }
 ],
 "metadata": {
  "kernelspec": {
   "display_name": "Python 3",
   "language": "python",
   "name": "python3"
  },
  "language_info": {
   "codemirror_mode": {
    "name": "ipython",
    "version": 3
   },
   "file_extension": ".py",
   "mimetype": "text/x-python",
   "name": "python",
   "nbconvert_exporter": "python",
   "pygments_lexer": "ipython3",
   "version": "3.5.2"
  }
 },
 "nbformat": 4,
 "nbformat_minor": 1
}

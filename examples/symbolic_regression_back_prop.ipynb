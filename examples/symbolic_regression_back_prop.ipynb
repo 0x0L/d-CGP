{
 "cells": [
  {
   "cell_type": "markdown",
   "metadata": {},
   "source": [
    "# Symbolic Regression with back-prop"
   ]
  },
  {
   "cell_type": "markdown",
   "metadata": {},
   "source": [
    "Lets first import dcgpy and pyaudi and set up things as to use dCGP on gduals defined over vectorized floats"
   ]
  },
  {
   "cell_type": "code",
   "execution_count": 277,
   "metadata": {
    "collapsed": false
   },
   "outputs": [],
   "source": [
    "from dcgpy import expression_gdual_vdouble as expression\n",
    "from dcgpy import kernel_set_gdual_vdouble as kernel_set\n",
    "from pyaudi import gdual_vdouble as gdual\n",
    "import pyaudi\n",
    "from matplotlib import pyplot as plt\n",
    "import numpy as np\n",
    "from numpy import sin, cos\n",
    "from random import randint\n",
    "np.seterr(all='ignore') # avoids numpy complaining about early on malformed expressions being evalkuated\n",
    "%matplotlib inline"
   ]
  },
  {
   "cell_type": "markdown",
   "metadata": {
    "collapsed": true
   },
   "source": [
    "## 1 - We define the set of kernel functions we will be using"
   ]
  },
  {
   "cell_type": "code",
   "execution_count": 782,
   "metadata": {
    "collapsed": false
   },
   "outputs": [],
   "source": [
    "kernels = kernel_set([\"sum\", \"mul\", \"diff\",\"pdiv\"])() # note the call operator (returns the list of kernels)"
   ]
  },
  {
   "cell_type": "markdown",
   "metadata": {},
   "source": [
    "## 2 - We instantiate a (1 in 1 out) dCGP and we inspect a randomly created program"
   ]
  },
  {
   "cell_type": "code",
   "execution_count": 783,
   "metadata": {
    "collapsed": false
   },
   "outputs": [
    {
     "name": "stdout",
     "output_type": "stream",
     "text": [
      "0.0 0.0 0.0 [1]\n",
      "0.0 2.0 0.0 [c**2 + c]\n",
      "-0.25 2.0 -0.25 [4*c**4/x]\n"
     ]
    },
    {
     "data": {
      "image/png": "[encoded data removed]",
      "text/plain": [
       "<matplotlib.figure.Figure at 0x7f2c6b79fef0>"
      ]
     },
     "metadata": {},
     "output_type": "display_data"
    },
    {
     "name": "stdout",
     "output_type": "stream",
     "text": [
      "Represented expression:  (((((c*c)+(c*c))*((c*c)+(c*c)))+(((c*c)+(c*c))-((c*c)+(c*c))))/x)\n",
      "Simplified expression:  [4*c**4/x]\n"
     ]
    }
   ],
   "source": [
    "dCGP = expression(inputs=2, outputs=1, rows=1, cols=15, levels_back=16, arity=2, kernels=kernels, seed = randint(0,1565646353))\n",
    "cumsum=0\n",
    "while(cumsum**2 < 1e-5):\n",
    "    dCGP.mutate_active(10)\n",
    "    term1 = dCGP([gdual([1],\"x\",1),gdual([0.5],\"c\",1)])[0].get_derivative({\"dx\" : 1})[0]\n",
    "    term2 = dCGP([gdual([1],\"x\",1),gdual([0.5],\"c\",1)])[0].get_derivative({\"dc\" : 1})[0]\n",
    "    cumsum=min(term1,term2)\n",
    "    print(term1, term2, cumsum, dCGP.simplify([\"x\",\"c\"]))\n",
    "\n",
    "plt.rcParams[\"figure.figsize\"] = [10,6]\n",
    "dCGP.visualize() #requires pygraphwiz module installed\n",
    "print(\"Represented expression: \", dCGP([\"x\",\"c\"])[0])\n",
    "print(\"Simplified expression: \", dCGP.simplify([\"x\",\"c\"])) #requires sympy module installed"
   ]
  },
  {
   "cell_type": "code",
   "execution_count": 789,
   "metadata": {
    "collapsed": false
   },
   "outputs": [],
   "source": [
    "def target(x):\n",
    "    return x**5 - np.pi*x**3 + x\n",
    "x = np.linspace(1,3,10)\n",
    "yt = target(x)\n",
    "x = gdual(x)"
   ]
  },
  {
   "cell_type": "code",
   "execution_count": 790,
   "metadata": {
    "collapsed": false
   },
   "outputs": [],
   "source": [
    "def err(dCGP, yt, cin):\n",
    "    c = gdual([cin], \"c\", 2)\n",
    "    y = dCGP([x,c])[0]\n",
    "    return (y-gdual(yt))**2\n",
    "\n",
    "def err2(dCGP, yt,cin):\n",
    "    c = gdual([cin], \"c\", 2)\n",
    "    y = dCGP([x,c])[0]\n",
    "    a = sum(err(dCGP,yt,cin).get_derivative({\"dc\":1}))\n",
    "    b = sum(err(dCGP,yt,cin).get_derivative({\"dc\":2}))\n",
    "    if b != 0:\n",
    "        c = c - a/b\n",
    "        y = dCGP([x,c])[0]\n",
    "    return (y-gdual(yt))**2, c.constant_cf[0]"
   ]
  },
  {
   "cell_type": "code",
   "execution_count": 795,
   "metadata": {
    "collapsed": false
   },
   "outputs": [
    {
     "name": "stdout",
     "output_type": "stream",
     "text": [
      "New best found: gen:  0  value:  40876.840011371474 [0] 1.0\n",
      "New best found: gen:  0  value:  17424.397612076027 [c - c/x - x + 1] 102.95841123448392\n",
      "New best found: gen:  4  value:  12254.81824388169 [-c*x + c/x] -32.16512667680763\n",
      "New best found: gen:  7  value:  10409.25008379886 [-c*x + c] -46.52743752048102\n",
      "New best found: gen:  24  value:  5906.689279249751 [c*x**2 - c*x + x**2] 17.540725169046645\n",
      "New best found: gen:  31  value:  5630.2120363122085 [c*x**2 - c*x + x**2 - x] 18.17017081064927\n",
      "New best found: gen:  32  value:  5365.883208499688 [c*x**2 - c*x - x] 19.799616452251897\n",
      "New best found: gen:  35  value:  3398.338365836664 [c*x**2 - c*x - c] 25.47235677921828\n",
      "New best found: gen:  254  value:  2980.4682009395137 [c**2*x**2 + c*x**4] 1.4591726110276644\n",
      "New best found: gen:  255  value:  2167.1740911105044 [-c**2*x**2 + c*x**4] 1.8600591037838767\n",
      "New best found: gen:  257  value:  2035.951987142738 [c*x**4] 1.6996925841793735\n",
      "New best found: gen:  268  value:  1184.7359623891605 [-2*c*x**2 + 2*x**4] 1.4067052483264997\n",
      "New best found: gen:  275  value:  1184.7359623891602 [-c*x**2 + 2*x**4] 2.813410496653\n",
      "New best found: gen:  392  value:  1184.7359623891598 [2*c*x**2 + 2*x**4] -1.4067052483265003\n",
      "New best found: gen:  412  value:  1085.9821713549281 [2*c*x**2 + c + 2*x**4 + x**2] -1.7790073725332585\n",
      "New best found: gen:  427  value:  1013.6804356020984 [c*x**2 + c + 2*x**4 + x**2] -3.3228950783169156\n",
      "New best found: gen:  456  value:  978.4051068381937 [2*c*x**2 + 2*c + 2*x**4 + 2*x**2] -2.0861088783085693\n",
      "New best found: gen:  459  value:  978.4051068381924 [c*x**2 + c + 2*x**4 + 2*x**2] -4.172217756617138\n",
      "New best found: gen:  493  value:  40.23227533149389 [2*c*x**3 + 2*c + x**5 + x**2] -1.590441792577769\n",
      "New best found: gen:  495  value:  40.23227533149384 [c*x**3 + c + x**5 + x**2] -3.180883585155539\n",
      "New best found: gen:  507  value:  6.248353291985264 [c*x**3 + x**5] -2.9965137674496467\n",
      "New best found: gen:  523  value:  6.248353291985261 [-c*x**3 + x**5] 2.9965137674496463\n",
      "New best found: gen:  604  value:  2.234941552104279e-28 [-c*x**3 + x**5 + x] 3.1415926535897927\n"
     ]
    }
   ],
   "source": [
    "offsprings = 4\n",
    "max_gen=10000\n",
    "constant = 1.\n",
    "chromosome = [1] * offsprings\n",
    "fitness = [1] *offsprings\n",
    "cout_off = [1]*offsprings\n",
    "best_chromosome = dCGP.get()\n",
    "fit, cout = err2(dCGP,yt,constant)\n",
    "best_fitness = sum(fit.constant_cf)\n",
    "for g in range(max_gen):\n",
    "    for i in range(offsprings):\n",
    "        dCGP.set(best_chromosome)\n",
    "        cumsum=0\n",
    "        dCGP.mutate_active(i)\n",
    "        fit, cout = err2(dCGP,yt,constant)\n",
    "        fitness[i] = sum(fit.constant_cf )\n",
    "        chromosome[i] = dCGP.get()\n",
    "        cout_off[i] = cout\n",
    "    for i in range(offsprings):\n",
    "        if fitness[i] <= best_fitness:\n",
    "            if (fitness[i] != best_fitness):\n",
    "                best_chromosome = chromosome[i]\n",
    "                best_fitness = fitness[i]\n",
    "                dCGP.set(best_chromosome)\n",
    "                print(\"New best found: gen: \", g, \" value: \", fitness[i],  dCGP.simplify([\"x\",\"c\"]), cout_off[i])\n",
    "\n",
    "    if best_fitness < 1e-7:\n",
    "        break"
   ]
  },
  {
   "cell_type": "code",
   "execution_count": 770,
   "metadata": {
    "collapsed": false
   },
   "outputs": [
    {
     "data": {
      "text/plain": [
       "[c/x]"
      ]
     },
     "execution_count": 770,
     "metadata": {},
     "output_type": "execute_result"
    }
   ],
   "source": [
    "dCGP.simplify([\"x\",\"c\"])"
   ]
  },
  {
   "cell_type": "code",
   "execution_count": 716,
   "metadata": {
    "collapsed": false
   },
   "outputs": [
    {
     "name": "stdout",
     "output_type": "stream",
     "text": [
      "error:  29642.170049026627\n",
      "dedt:  14597.362277395943\n",
      "d2edt2:  3594.2541505077697\n"
     ]
    }
   ],
   "source": [
    "c = -0.08028767454880459\n",
    "e =  sum(err(dCGP,yt,c).constant_cf)\n",
    "a = sum(err(dCGP,yt,c).get_derivative({\"dc\":1}))\n",
    "b = sum(err(dCGP,yt,c).get_derivative({\"dc\":2}))\n",
    "print(\"error: \", e)\n",
    "print(\"dedt: \", a)\n",
    "print(\"d2edt2: \", b)"
   ]
  },
  {
   "cell_type": "code",
   "execution_count": 719,
   "metadata": {
    "collapsed": false
   },
   "outputs": [
    {
     "name": "stdout",
     "output_type": "stream",
     "text": [
      "error:  3.8161146290066446e-29\n",
      "dedt:  -8.668572642203552e-14\n",
      "d2edt2:  3594.2541505077697\n"
     ]
    },
    {
     "data": {
      "text/plain": [
       "([0, 4.93038e-32, 2.41589e-30, 1.59744e-29, 1.97215e-29, ... ]+[0, 8.10813e-16, 9.36852e-15, -3.70074e-14, -5.98576e-14, ... ]*dc+[1, 3.3335, 9.08249, 21.4335, 45.4191, ... ]*dc**2,\n",
       " -4.141592653589793)"
      ]
     },
     "execution_count": 719,
     "metadata": {},
     "output_type": "execute_result"
    }
   ],
   "source": [
    "c = -0.08028767454880459\n",
    "e =  sum(err2(dCGP,yt,c)[0].constant_cf)\n",
    "a = sum(err2(dCGP,yt,c)[0].get_derivative({\"dc\":1}))\n",
    "b = sum(err2(dCGP,yt,c)[0].get_derivative({\"dc\":2}))\n",
    "print(\"error: \", e)\n",
    "print(\"dedt: \", a)\n",
    "print(\"d2edt2: \", b)\n",
    "err2(dCGP,yt,c)"
   ]
  },
  {
   "cell_type": "code",
   "execution_count": 715,
   "metadata": {
    "collapsed": false
   },
   "outputs": [
    {
     "data": {
      "text/plain": [
       "-0.08028767454880459"
      ]
     },
     "execution_count": 715,
     "metadata": {},
     "output_type": "execute_result"
    }
   ],
   "source": [
    "c"
   ]
  },
  {
   "cell_type": "code",
   "execution_count": null,
   "metadata": {
    "collapsed": true
   },
   "outputs": [],
   "source": []
  }
 ],
 "metadata": {
  "kernelspec": {
   "display_name": "Python 3",
   "language": "python",
   "name": "python3"
  },
  "language_info": {
   "codemirror_mode": {
    "name": "ipython",
    "version": 3
   },
   "file_extension": ".py",
   "mimetype": "text/x-python",
   "name": "python",
   "nbconvert_exporter": "python",
   "pygments_lexer": "ipython3",
   "version": "3.5.2"
  }
 },
 "nbformat": 4,
 "nbformat_minor": 1
}

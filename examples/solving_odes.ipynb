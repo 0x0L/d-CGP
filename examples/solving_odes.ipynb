{
 "cells": [
  {
   "cell_type": "markdown",
   "metadata": {},
   "source": [
    "# Solving differential equations with dCGP"
   ]
  },
  {
   "cell_type": "markdown",
   "metadata": {},
   "source": [
    "Lets first import dcgpy and pyaudi and set up things as to use dCGP on gduals defined over floats"
   ]
  },
  {
   "cell_type": "code",
   "execution_count": 1,
   "metadata": {
    "collapsed": false
   },
   "outputs": [],
   "source": [
    "from dcgpy import expression_gdual_vdouble as expression\n",
    "from dcgpy import kernel_set_gdual_vdouble as kernel_set\n",
    "from pyaudi import gdual_vdouble as gdual\n",
    "from matplotlib import pyplot as plt\n",
    "import numpy as np\n",
    "from numpy import sin, cos\n",
    "from random import randint\n",
    "np.seterr(all='ignore') # avoids numpy complaining about early on malformed expressions being evalkuated\n",
    "%matplotlib inline"
   ]
  },
  {
   "cell_type": "markdown",
   "metadata": {
    "collapsed": true
   },
   "source": [
    "## 1 - We define the set of kernel functions we will be using"
   ]
  },
  {
   "cell_type": "code",
   "execution_count": 2,
   "metadata": {
    "collapsed": false
   },
   "outputs": [],
   "source": [
    "kernels = kernel_set([\"sum\", \"diff\", \"div\", \"mul\", \"log\", \"sin\", \"cos\", \"exp\"])() # note the call operator (returns the list of kernels)"
   ]
  },
  {
   "cell_type": "markdown",
   "metadata": {},
   "source": [
    "## 2 - We instantiate a dCGP and we inspect a randomly created program"
   ]
  },
  {
   "cell_type": "code",
   "execution_count": 41,
   "metadata": {
    "collapsed": false
   },
   "outputs": [],
   "source": [
    "dCGP = expression(inputs=2, outputs=1, rows=1, cols=15, levels_back=16, arity=2, kernels=kernels, seed = 13)"
   ]
  },
  {
   "cell_type": "code",
   "execution_count": 40,
   "metadata": {
    "collapsed": false
   },
   "outputs": [
    {
     "data": {
      "image/png": "[encoded data removed]",
      "text/plain": [
       "<matplotlib.figure.Figure at 0x7faa2769a908>"
      ]
     },
     "metadata": {},
     "output_type": "display_data"
    },
    {
     "ename": "ValueError",
     "evalue": "Input size is incompatible",
     "output_type": "error",
     "traceback": [
      "\u001b[0;31m---------------------------------------------------------------------------\u001b[0m",
      "\u001b[0;31mValueError\u001b[0m                                Traceback (most recent call last)",
      "\u001b[0;32m<ipython-input-40-fc9f040e5ad5>\u001b[0m in \u001b[0;36m<module>\u001b[0;34m()\u001b[0m\n\u001b[1;32m      1\u001b[0m \u001b[0mplt\u001b[0m\u001b[0;34m.\u001b[0m\u001b[0mrcParams\u001b[0m\u001b[0;34m[\u001b[0m\u001b[0;34m\"figure.figsize\"\u001b[0m\u001b[0;34m]\u001b[0m \u001b[0;34m=\u001b[0m \u001b[0;34m[\u001b[0m\u001b[0;36m10\u001b[0m\u001b[0;34m,\u001b[0m\u001b[0;36m6\u001b[0m\u001b[0;34m]\u001b[0m\u001b[0;34m\u001b[0m\u001b[0m\n\u001b[1;32m      2\u001b[0m \u001b[0mdCGP\u001b[0m\u001b[0;34m.\u001b[0m\u001b[0mvisualize\u001b[0m\u001b[0;34m(\u001b[0m\u001b[0;34m)\u001b[0m \u001b[0;31m#requires pygraphwiz module installed\u001b[0m\u001b[0;34m\u001b[0m\u001b[0m\n\u001b[0;32m----> 3\u001b[0;31m \u001b[0mprint\u001b[0m\u001b[0;34m(\u001b[0m\u001b[0;34m\"Represented expression: \"\u001b[0m\u001b[0;34m,\u001b[0m \u001b[0mdCGP\u001b[0m\u001b[0;34m(\u001b[0m\u001b[0;34m[\u001b[0m\u001b[0;34m\"x\"\u001b[0m\u001b[0;34m]\u001b[0m\u001b[0;34m)\u001b[0m\u001b[0;34m[\u001b[0m\u001b[0;36m0\u001b[0m\u001b[0;34m]\u001b[0m\u001b[0;34m)\u001b[0m\u001b[0;34m\u001b[0m\u001b[0m\n\u001b[0m\u001b[1;32m      4\u001b[0m \u001b[0mprint\u001b[0m\u001b[0;34m(\u001b[0m\u001b[0;34m\"Simplified expression: \"\u001b[0m\u001b[0;34m,\u001b[0m \u001b[0mdCGP\u001b[0m\u001b[0;34m.\u001b[0m\u001b[0msimplify\u001b[0m\u001b[0;34m(\u001b[0m\u001b[0;34m[\u001b[0m\u001b[0;34m\"x\"\u001b[0m\u001b[0;34m]\u001b[0m\u001b[0;34m)\u001b[0m\u001b[0;34m)\u001b[0m \u001b[0;31m#requires sympy module installed\u001b[0m\u001b[0;34m\u001b[0m\u001b[0m\n",
      "\u001b[0;31mValueError\u001b[0m: Input size is incompatible"
     ]
    }
   ],
   "source": [
    "plt.rcParams[\"figure.figsize\"] = [10,6]\n",
    "dCGP.visualize() #requires pygraphwiz module installed\n",
    "print(\"Represented expression: \", dCGP([\"x\"])[0])\n",
    "print(\"Simplified expression: \", dCGP.simplify([\"x\"])) #requires sympy module installed"
   ]
  },
  {
   "cell_type": "markdown",
   "metadata": {},
   "source": [
    "# 3 - We define the ES that will evolve solutions"
   ]
  },
  {
   "cell_type": "code",
   "execution_count": 42,
   "metadata": {
    "collapsed": false
   },
   "outputs": [],
   "source": [
    "# We run an evolutionary strategy ES(1 + offspring)\n",
    "def run_experiment(max_gen, offsprings, quadratic_error, initial_conditions_error, screen_output=False):\n",
    "    dCGP = expression(inputs=2, outputs=1, rows=1, cols=15, levels_back=16, arity=2, kernels=kernels, seed = randint(0,100000))\n",
    "    chromosome = [1] * offsprings\n",
    "    fitness = [1] *offsprings\n",
    "    best_chromosome = dCGP.get()\n",
    "    best_fitness = quadratic_error(dCGP, grid) + initial_conditions_error(dCGP)\n",
    "    for g in range(max_gen):\n",
    "        for i in range(offsprings):\n",
    "            dCGP.set(best_chromosome)\n",
    "            dCGP.mutate_active(i) #  we mutate a number of increasingly higher active genes\n",
    "            qe = quadratic_error(dCGP, grid)\n",
    "            ie = initial_conditions_error(dCGP)\n",
    "            fitness[i] = ie + qe\n",
    "            chromosome[i] = dCGP.get()\n",
    "        for i in range(offsprings):\n",
    "            if fitness[i] <= best_fitness:\n",
    "                if (fitness[i] != best_fitness) and screen_output:\n",
    "                    print(\"New best found: gen: \", g, \" value: \", fitness[i])\n",
    "                best_chromosome = chromosome[i]\n",
    "                best_fitness = fitness[i]\n",
    "                dCGP.set(best_chromosome)\n",
    "        if best_fitness < 1e-7:\n",
    "            break\n",
    "    return g, best_chromosome"
   ]
  },
  {
   "cell_type": "markdown",
   "metadata": {},
   "source": [
    "## 4 - We consider the following Ordinary Differential Equation (ODE1):\n",
    "\n",
    "$\\frac{dy}{dx} = \\frac{2x - y}{x}$, with $y(0.1) = 20.1$ and $x \\in [0.1,1]$\n",
    "\n",
    "we demand its punctual validity over a grid of $N$ equally spaced points.\n",
    "\n",
    "The solution to the ODE is $y = x + \\frac 2x$"
   ]
  },
  {
   "cell_type": "code",
   "execution_count": 6,
   "metadata": {
    "collapsed": false
   },
   "outputs": [],
   "source": [
    "# We define the quadratic error of the dCGP in the grid points\n",
    "def qe_ODE1(dCGP, grid):\n",
    "    retval = 0\n",
    "    out = dCGP([grid])[0]\n",
    "    y = np.array(out.constant_cf)\n",
    "    dydx = np.array(out.get_derivative({\"dx\" : 1}))\n",
    "    x = np.array(grid.constant_cf)\n",
    "    ode1 = (2. * x - y) / x\n",
    "    retval += (ode1 - dydx) * (ode1 - dydx)\n",
    "    return sum(retval)"
   ]
  },
  {
   "cell_type": "code",
   "execution_count": 7,
   "metadata": {
    "collapsed": false
   },
   "outputs": [],
   "source": [
    "# We define a penalty term associated to the initial conditions violation\n",
    "def ic_ODE1(dCGP):\n",
    "    x0 = 1\n",
    "    y0 = 3\n",
    "    out = dCGP([gdual([x0])])[0]\n",
    "    return (out.constant_cf[0] - y0) * (out.constant_cf[0] - y0)"
   ]
  },
  {
   "cell_type": "code",
   "execution_count": 8,
   "metadata": {
    "collapsed": false
   },
   "outputs": [],
   "source": [
    "# We construct the grid of points. Since the ODE only contains first order derivatives we use truncation order 1.\n",
    "# Since we are using vectorized gdual we can instantiate only one gdual\n",
    "\n",
    "values = np.linspace(0.1,1,10)\n",
    "grid = gdual(values, \"x\", 1)"
   ]
  },
  {
   "cell_type": "code",
   "execution_count": 9,
   "metadata": {
    "collapsed": false
   },
   "outputs": [
    {
     "name": "stdout",
     "output_type": "stream",
     "text": [
      "restart: \t gen: \t expression:\n",
      "0 \t\t 336 \t ['((((x/x)/x)+x)+((x/x)/x))']  a.k.a  [x + 2/x]\n",
      "6 \t\t 74 \t ['(((exp((x-x))+exp((x-x)))/x)+x)']  a.k.a  [x + 2/x]\n",
      "10 \t\t 199 \t ['((x*(x/x))+(((x/x)+(x/x))/x))']  a.k.a  [x + 2/x]\n",
      "13 \t\t 394 \t ['(x+((x+x)/(x*x)))']  a.k.a  [x + 2/x]\n",
      "14 \t\t 55 \t ['(x+(((sin(x)/sin(x))+(sin(x)/sin(x)))/x))']  a.k.a  [x + 2/x]\n",
      "23 \t\t 344 \t ['((((x/x)/x)+((x/x)/x))+x)']  a.k.a  [x + 2/x]\n",
      "28 \t\t 323 \t ['(x+(((x+x)/x)/x))']  a.k.a  [x + 2/x]\n",
      "29 \t\t 174 \t ['(((x*x)+((x/x)+(x/x)))/x)']  a.k.a  [x + 2/x]\n",
      "42 \t\t 113 \t ['(x+(((x+x)/x)/x))']  a.k.a  [x + 2/x]\n",
      "45 \t\t 211 \t ['((x+(x-x))+(((x/x)+(x/x))/x))']  a.k.a  [x + 2/x]\n",
      "46 \t\t 91 \t ['(x+(((x/(x*(x/x)))+(x/x))/(x*(x/x))))']  a.k.a  [x + 2/x]\n",
      "53 \t\t 316 \t ['((((x+x)/x)/x)+x)']  a.k.a  [x + 2/x]\n",
      "54 \t\t 313 \t ['((x+((x/x)/x))+((x/x)/x))']  a.k.a  [x + 2/x]\n",
      "55 \t\t 121 \t ['(x+((cos((sin((x+x))-sin((x+x))))+cos((sin((x+x))-sin((x+x)))))/x))']  a.k.a  [x + 2/x]\n",
      "59 \t\t 253 \t ['((x/(x*x))+(((x/(x*x))+x)-((x-x)/(x-x))))']  a.k.a  [nan]\n",
      "61 \t\t 146 \t ['(((x/x)/x)+(x+((x/x)/x)))']  a.k.a  [x + 2/x]\n",
      "62 \t\t 244 \t ['((((x+x)/x)/x)+x)']  a.k.a  [x + 2/x]\n",
      "66 \t\t 308 \t ['(((cos((x-x))+cos((x-x)))/x)+x)']  a.k.a  [x + 2/x]\n",
      "70 \t\t 62 \t ['((x/(x*x))+((x/(x*x))+x))']  a.k.a  [x + 2/x]\n",
      "71 \t\t 120 \t ['(x+(((x+x)/x)/x))']  a.k.a  [x + 2/x]\n",
      "78 \t\t 161 \t ['(((x+x)/(x*x))+x)']  a.k.a  [x + 2/x]\n",
      "86 \t\t 176 \t ['((((x/x)/x)+x)+((x/x)/x))']  a.k.a  [x + 2/x]\n",
      "88 \t\t 46 \t ['(x+((((x/x)/x)*(x/x))+((x/x)/x)))']  a.k.a  [x + 2/x]\n",
      "90 \t\t 171 \t ['((((x/x)+(x/x))/x)+x)']  a.k.a  [x + 2/x]\n",
      "93 \t\t 177 \t ['(((((x/x)+(x/x))/x)+x)/(((x/x)+(x/x))/((x/x)+(x/x))))']  a.k.a  [x + 2/x]\n",
      "95 \t\t 256 \t ['(x+(((x+x)/x)/x))']  a.k.a  [x + 2/x]\n",
      "99 \t\t 185 \t ['(((x/(x*x))+(x/(x*x)))+x)']  a.k.a  [x + 2/x]\n"
     ]
    }
   ],
   "source": [
    "# We run nexp experiments to accumulate statistic for the ERT\n",
    "nexp = 100\n",
    "offsprings = 10\n",
    "stop = 400\n",
    "res = []\n",
    "print(\"restart: \\t gen: \\t expression:\")\n",
    "for i in range(nexp):\n",
    "    g, best_chromosome = run_experiment(max_gen = stop, offsprings = offsprings, \\\n",
    "            quadratic_error=qe_ODE1, initial_conditions_error=ic_ODE1)\n",
    "    res.append(g)\n",
    "    dCGP.set(best_chromosome)\n",
    "    if g < (stop-1):\n",
    "        print(i, \"\\t\\t\", res[i], \"\\t\", dCGP([\"x\"]), \" a.k.a \", dCGP.simplify([\"x\"]))\n",
    "res = np.array(res)"
   ]
  },
  {
   "cell_type": "code",
   "execution_count": 10,
   "metadata": {
    "collapsed": false
   },
   "outputs": [
    {
     "name": "stdout",
     "output_type": "stream",
     "text": [
      "ERT Expected run time - avg. number of function evaluations needed:  12776.2962963\n",
      "Avg. number of function evaluations from Tsoulos paper:  130600\n"
     ]
    }
   ],
   "source": [
    "ERT = sum(res) / sum(res<(stop-1))\n",
    "print(\"ERT Expected run time - avg. number of function evaluations needed: \", ERT * offsprings)\n",
    "print(\"Avg. number of function evaluations from Tsoulos paper: \", 653 * 200)"
   ]
  },
  {
   "cell_type": "markdown",
   "metadata": {
    "collapsed": true
   },
   "source": [
    "## 5 - We consider the following Ordinary Differential Equation (ODE2):\n",
    "\n",
    "$\\frac{dy}{dx} = \\frac{1 - ycos(x)}{sin(x)}$, with $y(0.1) = \\frac{2.1}{sin(0,1)}$ and $x \\in [0.1,1]$\n",
    "\n",
    "we demand its punctual validity over a grid of $N$ equally spaced points.\n",
    "\n",
    "NOTE: The solution to the ODE is $y = \\frac{x+2}{sin(x)}$"
   ]
  },
  {
   "cell_type": "code",
   "execution_count": 11,
   "metadata": {
    "collapsed": true
   },
   "outputs": [],
   "source": [
    "# We construct the grid of points. Since the ODE only contains first order derivatives we use truncation order 1.\n",
    "# Since we are using vectorized gdual we can instantiate only one gdual\n",
    "\n",
    "values = np.linspace(0.1,1,10)\n",
    "grid = gdual(values, \"x\", 1)"
   ]
  },
  {
   "cell_type": "code",
   "execution_count": 12,
   "metadata": {
    "collapsed": true
   },
   "outputs": [],
   "source": [
    "# We define the quadratic error of the dCGP in the grid points\n",
    "def qe_ODE2(dCGP, grid):\n",
    "    retval = 0\n",
    "    out = dCGP([grid])[0]\n",
    "    y = np.array(out.constant_cf)\n",
    "    dydx = np.array(out.get_derivative({\"dx\" : 1}))\n",
    "    x = np.array(grid.constant_cf)\n",
    "    ode2 = (1. -  y * cos(x)) / sin(x)\n",
    "    retval += (ode2 - dydx) * (ode2 - dydx)\n",
    "    return sum(retval)"
   ]
  },
  {
   "cell_type": "code",
   "execution_count": 13,
   "metadata": {
    "collapsed": true
   },
   "outputs": [],
   "source": [
    "# We define a penalty term associated to the initial conditions violation\n",
    "dummy = (2.1)/sin(0.1)\n",
    "def ic_ODE2(dCGP):\n",
    "    x0 = 0.1\n",
    "    y0 = dummy\n",
    "    out = dCGP([gdual([x0])])[0]\n",
    "    return (out.constant_cf[0] - y0) * (out.constant_cf[0] - y0)"
   ]
  },
  {
   "cell_type": "code",
   "execution_count": 14,
   "metadata": {
    "collapsed": false
   },
   "outputs": [
    {
     "name": "stdout",
     "output_type": "stream",
     "text": [
      "restart: \t gen: \t expression:\n",
      "3 \t\t 295 \t ['((((x+x)+(x/x))-(x-(x/x)))/sin(x))']  a.k.a  [x/sin(x) + 2/sin(x)]\n",
      "13 \t\t 315 \t ['((((x/x)/sin(x))+exp(log((x/sin(x)))))+((x/x)/sin(x)))']  a.k.a  [x/sin(x) + 2/sin(x)]\n",
      "44 \t\t 341 \t ['(((x/x)+((x/x)+x))/sin(x))']  a.k.a  [x/sin(x) + 2/sin(x)]\n",
      "46 \t\t 157 \t ['((x+((sin(x)/sin(x))+(sin(x)/sin(x))))/((sin(x)/sin(x))*sin(x)))']  a.k.a  [x/sin(x) + 2/sin(x)]\n",
      "52 \t\t 200 \t ['(((x/x)+(x+((x/x)/(x/x))))/sin(x))']  a.k.a  [x/sin(x) + 2/sin(x)]\n",
      "70 \t\t 158 \t ['(((x/x)+((x/x)+x))/sin(x))']  a.k.a  [x/sin(x) + 2/sin(x)]\n"
     ]
    }
   ],
   "source": [
    "# We run nexp experiments to accumulate statistic for the ERT\n",
    "nexp = 100\n",
    "stop = 400\n",
    "offsprings = 10\n",
    "res = []\n",
    "print(\"restart: \\t gen: \\t expression:\")\n",
    "for i in range(nexp):\n",
    "    g, best_chromosome = run_experiment(max_gen = stop, offsprings = offsprings, \\\n",
    "            quadratic_error=qe_ODE2, initial_conditions_error=ic_ODE2)\n",
    "    res.append(g)\n",
    "    dCGP.set(best_chromosome)\n",
    "    if g < (stop-1):\n",
    "        print(i, \"\\t\\t\", res[i], \"\\t\", dCGP([\"x\"]), \" a.k.a \", dCGP.simplify([\"x\"]))\n",
    "res = np.array(res)"
   ]
  },
  {
   "cell_type": "code",
   "execution_count": 15,
   "metadata": {
    "collapsed": false
   },
   "outputs": [
    {
     "name": "stdout",
     "output_type": "stream",
     "text": [
      "ERT Expected run time - avg. number of function evaluations needed:  64953.3333333\n",
      "Avg. number of function evaluations from Tsoulos paper:  148400\n"
     ]
    }
   ],
   "source": [
    "ERT = sum(res) / sum(res<(stop-1))\n",
    "print(\"ERT Expected run time - avg. number of function evaluations needed: \", ERT * offsprings)\n",
    "print(\"Avg. number of function evaluations from Tsoulos paper: \", 742 * 200)"
   ]
  },
  {
   "cell_type": "markdown",
   "metadata": {},
   "source": [
    "## 6 - We consider the following Ordinary Differential Equation (ODE5):\n",
    "\n",
    "$\\frac{d^2y}{dx^2} = 6\\frac{dy}{dx} - 9y$, with $y(0) = 0$, $\\frac{dy}{dx}(0)=2$ and $x \\in [0,1]$\n",
    "\n",
    "we demand its punctual validity over a grid of $N$ equally spaced points.\n",
    "\n",
    "NOTE: The solution to the ODE is $y = 2x \\exp(3x)$"
   ]
  },
  {
   "cell_type": "code",
   "execution_count": 16,
   "metadata": {
    "collapsed": true
   },
   "outputs": [],
   "source": [
    "# We construct the grid of points. Since the ODE only contains second order derivatives we use truncation order 2.\n",
    "# Since we are using vectorized gdual we can instantiate only one gdual\n",
    "\n",
    "values = np.linspace(0,1,10)\n",
    "grid = gdual(values, \"x\", 2)"
   ]
  },
  {
   "cell_type": "code",
   "execution_count": 17,
   "metadata": {
    "collapsed": true
   },
   "outputs": [],
   "source": [
    "# We define the quadratic error of the dCGP in the grid points\n",
    "def qe_ODE5(dCGP, grid):\n",
    "    retval = 0\n",
    "    out = dCGP([grid])[0]\n",
    "    y = np.array(out.constant_cf)\n",
    "    dydx = np.array(out.get_derivative({\"dx\" : 1}))\n",
    "    dydx2 = np.array(out.get_derivative({\"dx\" : 2}))\n",
    "    x = np.array(grid.constant_cf)\n",
    "    ode5 = 6. * dydx - 9 * y\n",
    "    retval += (ode5 - dydx2) * (ode5 - dydx2)\n",
    "    return sum(retval)"
   ]
  },
  {
   "cell_type": "code",
   "execution_count": 18,
   "metadata": {
    "collapsed": true
   },
   "outputs": [],
   "source": [
    "# We define a penalty term associated to the initial conditions violation\n",
    "def ic_ODE5(dCGP):\n",
    "    x0 = 1e-16 # avoids what seems a numerical problem with vectorized dual?\n",
    "    y0 = 0.\n",
    "    dy0 = 2.\n",
    "    out = dCGP([gdual([x0], \"x\", 1)])[0]\n",
    "    dCGP_y0 = out.constant_cf[0]\n",
    "    dCGP_dy0 = out.get_derivative({\"dx\" : 1})[0]\n",
    "    return (dCGP_y0 - y0) * (dCGP_y0 - y0) + (dCGP_dy0 - dy0) * (dCGP_dy0 - dy0)"
   ]
  },
  {
   "cell_type": "code",
   "execution_count": 21,
   "metadata": {
    "collapsed": false
   },
   "outputs": [
    {
     "name": "stdout",
     "output_type": "stream",
     "text": [
      "restart: \t gen: \t expression:\n",
      "11 \t\t 350 \t ['(((x*exp(x))+(x*exp(x)))*(exp(x)*exp(x)))']  a.k.a  [2*x*exp(3*x)]\n",
      "12 \t\t 254 \t ['((x+x)*(exp(x)*(exp(x)*exp(x))))']  a.k.a  [2*x*exp(3*x)]\n",
      "13 \t\t 205 \t ['(exp(((x+x)+x))*(x+x))']  a.k.a  [2*x*exp(3*x)]\n",
      "18 \t\t 261 \t ['((exp(x)*(x+x))*(exp(x)*exp(x)))']  a.k.a  [2*x*exp(3*x)]\n",
      "27 \t\t 340 \t ['(exp(x)*(((x+x)*exp(x))*exp(x)))']  a.k.a  [2*x*exp(3*x)]\n",
      "29 \t\t 123 \t ['(exp(x)*(((x+x)*exp(x))*exp(x)))']  a.k.a  [2*x*exp(3*x)]\n",
      "37 \t\t 205 \t ['(exp(((x+x)+x))*(((x+x)+x)-x))']  a.k.a  [2*x*exp(3*x)]\n",
      "44 \t\t 233 \t ['((x+x)*exp((x+(x+x))))']  a.k.a  [2*x*exp(3*x)]\n",
      "45 \t\t 269 \t ['(exp(((x+x)+x))*(x+x))']  a.k.a  [2*x*exp(3*x)]\n",
      "51 \t\t 225 \t ['((exp(x)*(x*(exp(x)+exp(x))))*exp(x))']  a.k.a  [2*x*exp(3*x)]\n",
      "56 \t\t 361 \t ['((exp(x)*x)*((exp(x)+exp(x))*exp(x)))']  a.k.a  [2*x*exp(3*x)]\n",
      "57 \t\t 112 \t ['((x*((exp(x)*exp(x))+(exp(x)*exp(x))))*exp(x))']  a.k.a  [2*x*exp(3*x)]\n",
      "66 \t\t 287 \t ['(exp(x)*(exp((x+x))*(x+x)))']  a.k.a  [2*x*exp(3*x)]\n",
      "97 \t\t 232 \t ['((x+x)*exp(((x+x)+x)))']  a.k.a  [2*x*exp(3*x)]\n"
     ]
    }
   ],
   "source": [
    "# We run nexp experiments to accumulate statistic for the ERT\n",
    "nexp = 100\n",
    "stop = 400\n",
    "offsprings = 10\n",
    "res = []\n",
    "print(\"restart: \\t gen: \\t expression:\")\n",
    "for i in range(nexp):\n",
    "    g, best_chromosome = run_experiment(max_gen = stop, offsprings = offsprings, \\\n",
    "            quadratic_error=qe_ODE5, initial_conditions_error=ic_ODE5)\n",
    "    res.append(g)\n",
    "    dCGP.set(best_chromosome)\n",
    "    if g < (stop-1):\n",
    "        print(i, \"\\t\\t\", res[i], \"\\t\", dCGP([\"x\"]), \" a.k.a \", dCGP.simplify([\"x\"]))\n",
    "res = np.array(res)"
   ]
  },
  {
   "cell_type": "code",
   "execution_count": 22,
   "metadata": {
    "collapsed": false
   },
   "outputs": [
    {
     "name": "stdout",
     "output_type": "stream",
     "text": [
      "ERT Expected run time - avg. number of function evaluations needed:  26979.2857143\n",
      "Avg. number of function evaluations from Tsoulos paper:  88200\n"
     ]
    }
   ],
   "source": [
    "ERT = sum(res) / sum(res<(stop-1))\n",
    "print(\"ERT Expected run time - avg. number of function evaluations needed: \", ERT * offsprings)\n",
    "print(\"Avg. number of function evaluations from Tsoulos paper: \", 441 * 200)"
   ]
  },
  {
   "cell_type": "markdown",
   "metadata": {},
   "source": [
    "## 7 - We consider the following non linear Ordinary Differential Equation (NLODE3):\n",
    "\n",
    "$\\frac{d^2y}{dx^2}\\frac{dy}{dx} = -\\frac4{x^3}$, with $y(1) = 0$, and $x \\in [1,2]$\n",
    "\n",
    "we demand its punctual validity over a grid of $N$ equally spaced points.\n",
    "\n",
    "NOTE: The solution to the ODE is $y = log(x^2)$"
   ]
  },
  {
   "cell_type": "code",
   "execution_count": 23,
   "metadata": {
    "collapsed": true
   },
   "outputs": [],
   "source": [
    "# We construct the grid of points. Since the ODE only contains second order derivatives we use truncation order 2.\n",
    "# Since we are using vectorized gdual we can instantiate only one gdual\n",
    "\n",
    "values = np.linspace(1,2,10)\n",
    "grid = gdual(values, \"x\", 2)"
   ]
  },
  {
   "cell_type": "code",
   "execution_count": 24,
   "metadata": {
    "collapsed": true
   },
   "outputs": [],
   "source": [
    "# We define the quadratic error of the dCGP in the grid points\n",
    "def qe_NLODE3(dCGP, grid):\n",
    "    retval = 0\n",
    "    out = dCGP([grid])[0]\n",
    "    y = np.array(out.constant_cf)\n",
    "    dydx = np.array(out.get_derivative({\"dx\" : 1}))\n",
    "    dydx2 = np.array(out.get_derivative({\"dx\" : 2}))\n",
    "    x = np.array(grid.constant_cf)\n",
    "    nlode3 = dydx2*dydx\n",
    "    retval += (nlode3 + 4/x/x/x) * (nlode3 + 4/x/x/x)\n",
    "    return sum(retval)"
   ]
  },
  {
   "cell_type": "code",
   "execution_count": 25,
   "metadata": {
    "collapsed": true
   },
   "outputs": [],
   "source": [
    "# We define a penalty term associated to the initial conditions violation\n",
    "def ic_NLODE3(dCGP):\n",
    "    x0 = 1.\n",
    "    y0 = 0.\n",
    "    out = dCGP([gdual([x0])])[0]\n",
    "    dCGP_y0 = out.constant_cf[0]\n",
    "    dCGP_dy0 = out.get_derivative({\"dx\" : 1})[0]\n",
    "    return (dCGP_y0 - y0) * (dCGP_y0 - y0)"
   ]
  },
  {
   "cell_type": "code",
   "execution_count": 26,
   "metadata": {
    "collapsed": false
   },
   "outputs": [
    {
     "name": "stdout",
     "output_type": "stream",
     "text": [
      "restart: \t gen: \t expression:\n",
      "0 \t\t 26 \t ['(log((x*x))+(sin(((x*x)+x))-sin(((x*x)+x))))']  a.k.a  [log(x**2)]\n",
      "1 \t\t 25 \t ['((log(((x/x)*x))*(x/x))+(log(((x/x)*x))*(x/x)))']  a.k.a  [2*log(x)]\n",
      "2 \t\t 38 \t ['log((x*x))']  a.k.a  [log(x**2)]\n",
      "3 \t\t 180 \t ['log((x*x))']  a.k.a  [log(x**2)]\n",
      "4 \t\t 13 \t ['((x-x)-log((x*x)))']  a.k.a  [-log(x**2)]\n",
      "5 \t\t 9 \t ['log((x*x))']  a.k.a  [log(x**2)]\n",
      "6 \t\t 83 \t ['log((x*x))']  a.k.a  [log(x**2)]\n",
      "7 \t\t 23 \t ['log((x*x))']  a.k.a  [log(x**2)]\n",
      "9 \t\t 10 \t ['(log(x)+log(x))']  a.k.a  [2*log(x)]\n",
      "10 \t\t 1 \t ['(log(x)+log(x))']  a.k.a  [2*log(x)]\n",
      "11 \t\t 24 \t ['(log(x)+log(x))']  a.k.a  [2*log(x)]\n",
      "12 \t\t 157 \t ['(log(x)+log(x))']  a.k.a  [2*log(x)]\n",
      "13 \t\t 66 \t ['log(((x*x)+(cos(cos(x))-cos(cos(x)))))']  a.k.a  [log(x**2)]\n",
      "14 \t\t 26 \t ['log(((x/(x*x))/((x*x)/x)))']  a.k.a  [log(x**(-2))]\n",
      "16 \t\t 50 \t ['((log(x)+((x+x)-(x+x)))+log(x))']  a.k.a  [2*log(x)]\n",
      "17 \t\t 13 \t ['(log(x)+log(x))']  a.k.a  [2*log(x)]\n",
      "18 \t\t 5 \t ['log((x*x))']  a.k.a  [log(x**2)]\n",
      "19 \t\t 23 \t ['(log(x)+log(x))']  a.k.a  [2*log(x)]\n",
      "20 \t\t 4 \t ['(log((x*x))/((x/x)-((exp((log((x/x))-(x*x)))*(log((x/x))-(x*x)))*(log((x/x))/x))))']  a.k.a  [log(x**2)]\n",
      "21 \t\t 4 \t ['log((x*x))']  a.k.a  [log(x**2)]\n",
      "22 \t\t 61 \t ['log((log(exp(x))*log(exp(x))))']  a.k.a  [log(log(exp(x))**2)]\n",
      "23 \t\t 14 \t ['log((x*x))']  a.k.a  [log(x**2)]\n",
      "26 \t\t 6 \t ['log((x*x))']  a.k.a  [log(x**2)]\n",
      "27 \t\t 35 \t ['(log(x)+log(x))']  a.k.a  [2*log(x)]\n",
      "28 \t\t 0 \t ['log((x*x))']  a.k.a  [log(x**2)]\n",
      "29 \t\t 27 \t ['(log(x)+log(x))']  a.k.a  [2*log(x)]\n",
      "30 \t\t 55 \t ['log((x*x))']  a.k.a  [log(x**2)]\n",
      "31 \t\t 120 \t ['(log(x)+log(x))']  a.k.a  [2*log(x)]\n",
      "32 \t\t 0 \t ['(log(x)+log(x))']  a.k.a  [2*log(x)]\n",
      "33 \t\t 14 \t ['((log(x)*(x+x))/x)']  a.k.a  [2*log(x)]\n",
      "34 \t\t 2 \t ['log((x*x))']  a.k.a  [log(x**2)]\n",
      "35 \t\t 19 \t ['log((x*x))']  a.k.a  [log(x**2)]\n",
      "36 \t\t 30 \t ['(log(x)+log(x))']  a.k.a  [2*log(x)]\n",
      "37 \t\t 195 \t ['((x-(x-log(x)))+log(x))']  a.k.a  [2*log(x)]\n",
      "38 \t\t 141 \t ['(log(x)+log(x))']  a.k.a  [2*log(x)]\n",
      "39 \t\t 4 \t ['log((x*x))']  a.k.a  [log(x**2)]\n",
      "40 \t\t 34 \t ['(cos(sin((x-x)))*(log(x)+log(x)))']  a.k.a  [2*log(x)]\n",
      "41 \t\t 0 \t ['log((x*x))']  a.k.a  [log(x**2)]\n",
      "42 \t\t 158 \t ['(log(x)+log(x))']  a.k.a  [2*log(x)]\n",
      "43 \t\t 0 \t ['(log(x)+log(x))']  a.k.a  [2*log(x)]\n",
      "44 \t\t 24 \t ['log((x*x))']  a.k.a  [log(x**2)]\n",
      "45 \t\t 68 \t ['log((x*x))']  a.k.a  [log(x**2)]\n",
      "46 \t\t 13 \t ['log((x*x))']  a.k.a  [log(x**2)]\n",
      "47 \t\t 129 \t ['(log(x)+log(x))']  a.k.a  [2*log(x)]\n",
      "48 \t\t 9 \t ['(log(x)+log(x))']  a.k.a  [2*log(x)]\n",
      "49 \t\t 17 \t ['log((x*x))']  a.k.a  [log(x**2)]\n",
      "50 \t\t 15 \t ['(log(x)+log(x))']  a.k.a  [2*log(x)]\n",
      "51 \t\t 24 \t ['(((exp((x/x))*log(x))/exp((x/x)))+log(x))']  a.k.a  [2*log(x)]\n",
      "53 \t\t 33 \t ['log((x*x))']  a.k.a  [log(x**2)]\n",
      "54 \t\t 9 \t ['log((x*x))']  a.k.a  [log(x**2)]\n",
      "56 \t\t 44 \t ['log((x*x))']  a.k.a  [log(x**2)]\n",
      "57 \t\t 73 \t ['log((x*x))']  a.k.a  [log(x**2)]\n",
      "58 \t\t 1 \t ['log((x*x))']  a.k.a  [log(x**2)]\n",
      "60 \t\t 9 \t ['log(((x/(x/x))*x))']  a.k.a  [log(x**2)]\n",
      "61 \t\t 27 \t ['log((x*x))']  a.k.a  [log(x**2)]\n",
      "62 \t\t 4 \t ['(log(((x/(x+log(x)))*(x+log(x))))+log(((x/(x+log(x)))*(x+log(x)))))']  a.k.a  [2*log(x)]\n",
      "63 \t\t 12 \t ['log((x*x))']  a.k.a  [log(x**2)]\n",
      "64 \t\t 3 \t ['(log(x)+log(x))']  a.k.a  [2*log(x)]\n",
      "66 \t\t 21 \t ['log((x*x))']  a.k.a  [log(x**2)]\n",
      "67 \t\t 50 \t ['log((x*x))']  a.k.a  [log(x**2)]\n",
      "68 \t\t 21 \t ['log((x*x))']  a.k.a  [log(x**2)]\n",
      "69 \t\t 13 \t ['log((x*x))']  a.k.a  [log(x**2)]\n",
      "70 \t\t 11 \t ['(log(x)+log(x))']  a.k.a  [2*log(x)]\n",
      "71 \t\t 24 \t ['(log(x)+log(x))']  a.k.a  [2*log(x)]\n",
      "72 \t\t 38 \t ['log((x*x))']  a.k.a  [log(x**2)]\n",
      "73 \t\t 12 \t ['(log(x)+log(x))']  a.k.a  [2*log(x)]\n",
      "76 \t\t 10 \t ['(log((x/x))-(log(x)+log(x)))']  a.k.a  [-2*log(x)]\n",
      "77 \t\t 10 \t ['log((x*exp(log(x))))']  a.k.a  [log(x**2)]\n",
      "78 \t\t 8 \t ['log((x*x))']  a.k.a  [log(x**2)]\n",
      "79 \t\t 62 \t ['((log((x*x))+(log((x*x))-log((x*x))))-(log((x*x))-log((x*x))))']  a.k.a  [log(x**2)]\n",
      "80 \t\t 7 \t ['log((x*x))']  a.k.a  [log(x**2)]\n",
      "81 \t\t 4 \t ['log((x*x))']  a.k.a  [log(x**2)]\n",
      "82 \t\t 25 \t ['log((x*x))']  a.k.a  [log(x**2)]\n",
      "83 \t\t 8 \t ['log((((x*x)/x)*((x*x)/x)))']  a.k.a  [log(x**2)]\n",
      "84 \t\t 3 \t ['log((x*x))']  a.k.a  [log(x**2)]\n",
      "85 \t\t 25 \t ['log((x*x))']  a.k.a  [log(x**2)]\n",
      "86 \t\t 14 \t ['(log((x*x))+sin(log((x/x))))']  a.k.a  [log(x**2)]\n",
      "87 \t\t 34 \t ['log((((x/x)/x)*((x/x)/x)))']  a.k.a  [log(x**(-2))]\n",
      "88 \t\t 184 \t ['log((x*x))']  a.k.a  [log(x**2)]\n",
      "89 \t\t 57 \t ['log((x*x))']  a.k.a  [log(x**2)]\n",
      "90 \t\t 7 \t ['log(exp(log((((x*x)+x)-x))))']  a.k.a  [log(x**2)]\n",
      "91 \t\t 4 \t ['(log(x)+log(x))']  a.k.a  [2*log(x)]\n",
      "93 \t\t 10 \t ['log((x*x))']  a.k.a  [log(x**2)]\n",
      "94 \t\t 6 \t ['log((x*x))']  a.k.a  [log(x**2)]\n",
      "95 \t\t 11 \t ['log((((x*x)-x)+x))']  a.k.a  [log(x**2)]\n",
      "96 \t\t 24 \t ['(log(x)+log(x))']  a.k.a  [2*log(x)]\n",
      "97 \t\t 9 \t ['log(((x/x)*(x*x)))']  a.k.a  [log(x**2)]\n",
      "98 \t\t 98 \t ['log((x*x))']  a.k.a  [log(x**2)]\n",
      "99 \t\t 26 \t ['(log(x)+log(x))']  a.k.a  [2*log(x)]\n"
     ]
    }
   ],
   "source": [
    "# We run nexp experiments to accumulate statistic for the ERT\n",
    "nexp = 100\n",
    "stop = 400\n",
    "offsprings = 10\n",
    "res = []\n",
    "print(\"restart: \\t gen: \\t expression:\")\n",
    "for i in range(nexp):\n",
    "    g, best_chromosome = run_experiment(max_gen = stop, offsprings = offsprings, \\\n",
    "            quadratic_error=qe_NLODE3, initial_conditions_error=ic_NLODE3)\n",
    "    res.append(g)\n",
    "    dCGP.set(best_chromosome)\n",
    "    if g < (stop-1):\n",
    "        print(i, \"\\t\\t\", res[i], \"\\t\", dCGP([\"x\"]), \" a.k.a \", dCGP.simplify([\"x\"]))\n",
    "res = np.array(res)"
   ]
  },
  {
   "cell_type": "code",
   "execution_count": 27,
   "metadata": {
    "collapsed": false
   },
   "outputs": [
    {
     "name": "stdout",
     "output_type": "stream",
     "text": [
      "ERT Expected run time - avg. number of function evaluations needed:  835.280898876\n",
      "Avg. number of function evaluations from Tsoulos paper:  38200\n"
     ]
    }
   ],
   "source": [
    "ERT = sum(res) / sum(res<(stop-1))\n",
    "print(\"ERT Expected run time - avg. number of function evaluations needed: \", ERT * offsprings)\n",
    "print(\"Avg. number of function evaluations from Tsoulos paper: \", 191 * 200)"
   ]
  },
  {
   "cell_type": "markdown",
   "metadata": {
    "collapsed": true
   },
   "source": [
    "## 8 - We consider the following non linear Patial Differential Equation (PDE1):\n",
    "\n",
    "$\\nabla^2 \\psi(x,y) = \\exp(-x)(x-2 + y^3 + 6y)$ with $x\\in[0,1]$, $y\\in[0,1]$ and boundary conditions: $\\psi(0,y) = y^3$, $\\psi(1,y) = (1+y^3)\\exp(-1)$\n",
    "\n",
    "we demand its punctual validity over a squared grid of $N$ equally spaced points.\n",
    "\n",
    "NOTE: The solution to the PDE is $\\psi(x,y) = (x+y^3)\\exp(-x)$"
   ]
  },
  {
   "cell_type": "code",
   "execution_count": 114,
   "metadata": {
    "collapsed": true
   },
   "outputs": [],
   "source": [
    "# We construct the grid of points. Since the PDE only contains second order derivatives we use truncation order 2.\n",
    "# Since we are using vectorized gdual we can instantiate only one gdual\n",
    "\n",
    "values = np.linspace(0,1,10)\n",
    "xval = np.append(values,[values]*9)\n",
    "yval = values.repeat(10)\n",
    "grid = [gdual(xval, \"x\", 2), gdual(yval, \"y\", 2)]"
   ]
  },
  {
   "cell_type": "code",
   "execution_count": 115,
   "metadata": {
    "collapsed": true
   },
   "outputs": [],
   "source": [
    "# We define the quadratic error of the dCGP in the grid points\n",
    "def qe_PDE1(dCGP, grid):\n",
    "    retval = 0\n",
    "    out = dCGP([grid[0], grid[1]])[0]\n",
    "    dpsidx2 = np.array(out.get_derivative({\"dx\" : 2}))\n",
    "    dpsidy2 = np.array(out.get_derivative({\"dy\" : 2}))\n",
    "    x = np.array(grid[0].constant_cf)\n",
    "    y = np.array(grid[1].constant_cf)  \n",
    "    pde1 = np.exp(-x) * (x-2+y*y*y+6*y)\n",
    "    retval += (pde1 - dpsidx2 - dpsidy2) * (pde1 - dpsidx2 - dpsidy2)\n",
    "    return sum(retval)"
   ]
  },
  {
   "cell_type": "code",
   "execution_count": null,
   "metadata": {
    "collapsed": true
   },
   "outputs": [],
   "source": [
    "# We define a penalty term associated to the initial conditions violation\n",
    "em1 = np.exp(-1)\n",
    "def ic_PDE1(dCGP):\n",
    "    x0 = gdual([0]*10)\n",
    "    y0 = gdual(values)\n",
    "    psi = dCGP([x0, y0])[0]\n",
    "    dCGP_psi = psi.constant_cf[0]\n",
    "    err1 = (dCGP_psi - values*values*values) * (dCGP_psi - values*values*values)\n",
    "    x0 = gdual([1]*10)\n",
    "    y0 = gdual(values)\n",
    "    psi = dCGP([x0, y0])[0]\n",
    "    dCGP_psi = psi.constant_cf[0]\n",
    "    err2 = (dCGP_psi - (1+values*values*values)/em1) * (dCGP_psi - (1+values*values*values)/em1)\n",
    "    return 0. #sum(err1) + sum(err2)"
   ]
  },
  {
   "cell_type": "code",
   "execution_count": 124,
   "metadata": {
    "collapsed": false
   },
   "outputs": [
    {
     "name": "stdout",
     "output_type": "stream",
     "text": [
      "restart: \t gen: \t expression:\n",
      "New best found: gen:  0  value:  454.285440328\n",
      "New best found: gen:  0  value:  336.390900411\n",
      "New best found: gen:  2  value:  82.9394056723\n",
      "New best found: gen:  95  value:  76.8455678829\n",
      "New best found: gen:  121  value:  65.9653429083\n",
      "New best found: gen:  132  value:  65.4798746361\n",
      "New best found: gen:  154  value:  30.3987916021\n",
      "New best found: gen:  1324  value:  23.8367840209\n",
      "New best found: gen:  4791  value:  23.4179425423\n",
      "New best found: gen:  4940  value:  15.7499552822\n",
      "New best found: gen:  5251  value:  12.1203714505\n",
      "New best found: gen:  7293  value:  10.4792498649\n"
     ]
    }
   ],
   "source": [
    "# We run nexp experiments to accumulate statistic for the ERT\n",
    "nexp = 1\n",
    "stop = 10000\n",
    "offsprings = 10\n",
    "res = []\n",
    "print(\"restart: \\t gen: \\t expression:\")\n",
    "for i in range(nexp):\n",
    "    g, best_chromosome = run_experiment(max_gen = stop, offsprings = offsprings, \\\n",
    "            quadratic_error=qe_PDE1, initial_conditions_error=ic_PDE1, screen_output=True)\n",
    "    res.append(g)\n",
    "    dCGP.set(best_chromosome)\n",
    "    if g < (stop-1):\n",
    "        print(i, \"\\t\\t\", res[i], \"\\t\", dCGP([\"x\",\"y\"]), \" a.k.a \", dCGP.simplify([\"x\",\"y\"]))\n",
    "res = np.array(res)"
   ]
  },
  {
   "cell_type": "code",
   "execution_count": 125,
   "metadata": {
    "collapsed": false
   },
   "outputs": [
    {
     "data": {
      "text/plain": [
       "[exp(cos(exp(cos(y)) + cos(y))*cos(sin(sin(x*y))))]"
      ]
     },
     "execution_count": 125,
     "metadata": {},
     "output_type": "execute_result"
    }
   ],
   "source": [
    "dCGP.simplify([\"x\",\"y\"])"
   ]
  },
  {
   "cell_type": "code",
   "execution_count": null,
   "metadata": {
    "collapsed": true
   },
   "outputs": [],
   "source": []
  }
 ],
 "metadata": {
  "kernelspec": {
   "display_name": "Python 3",
   "language": "python",
   "name": "python3"
  },
  "language_info": {
   "codemirror_mode": {
    "name": "ipython",
    "version": 3
   },
   "file_extension": ".py",
   "mimetype": "text/x-python",
   "name": "python",
   "nbconvert_exporter": "python",
   "pygments_lexer": "ipython3",
   "version": "3.5.2"
  }
 },
 "nbformat": 4,
 "nbformat_minor": 1
}

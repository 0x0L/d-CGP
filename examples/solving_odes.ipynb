{
 "cells": [
  {
   "cell_type": "markdown",
   "metadata": {},
   "source": [
    "# Solving differential equations with dCGP"
   ]
  },
  {
   "cell_type": "markdown",
   "metadata": {},
   "source": [
    "Lets first import dcgpy and pyaudi and set up things as to use dCGP on gduals defined over floats"
   ]
  },
  {
   "cell_type": "code",
   "execution_count": 1,
   "metadata": {
    "collapsed": false
   },
   "outputs": [],
   "source": [
    "from dcgpy import expression_gdual_vdouble as expression\n",
    "from dcgpy import kernel_set_gdual_vdouble as kernel_set\n",
    "from pyaudi import gdual_vdouble as gdual\n",
    "from matplotlib import pyplot as plt\n",
    "import numpy as np\n",
    "from numpy import sin, cos\n",
    "from random import randint\n",
    "np.seterr(all='ignore') # avoids numpy complaining about early on malformed expressions being evalkuated\n",
    "%matplotlib inline"
   ]
  },
  {
   "cell_type": "markdown",
   "metadata": {
    "collapsed": true
   },
   "source": [
    "## 1 - We define the set of kernel functions we will be using"
   ]
  },
  {
   "cell_type": "code",
   "execution_count": 2,
   "metadata": {
    "collapsed": false
   },
   "outputs": [],
   "source": [
    "kernels = kernel_set([\"sum\", \"mul\", \"div\", \"log\", \"sin\", \"cos\", \"exp\"])() # note the call operator (returns the list of kernels)"
   ]
  },
  {
   "cell_type": "markdown",
   "metadata": {},
   "source": [
    "## 2 - We instantiate a (1 in 1 out) dCGP and we inspect a randomly created program"
   ]
  },
  {
   "cell_type": "code",
   "execution_count": 3,
   "metadata": {
    "collapsed": false
   },
   "outputs": [],
   "source": [
    "dCGP_example = expression(inputs=1, outputs=1, rows=1, cols=15, levels_back=16, arity=2, kernels=kernels, seed = 1)"
   ]
  },
  {
   "cell_type": "code",
   "execution_count": 4,
   "metadata": {
    "collapsed": false
   },
   "outputs": [
    {
     "data": {
      "image/png": "[encoded data removed]",
      "text/plain": [
       "<matplotlib.figure.Figure at 0x7fe975ffc6a0>"
      ]
     },
     "metadata": {},
     "output_type": "display_data"
    },
    {
     "name": "stdout",
     "output_type": "stream",
     "text": [
      "Represented expression:  (x+x)\n",
      "Simplified expression:  [2*x]\n"
     ]
    }
   ],
   "source": [
    "plt.rcParams[\"figure.figsize\"] = [10,6]\n",
    "dCGP_example.visualize() #requires pygraphwiz module installed\n",
    "print(\"Represented expression: \", dCGP_example([\"x\"])[0])\n",
    "print(\"Simplified expression: \", dCGP_example.simplify([\"x\"])) #requires sympy module installed"
   ]
  },
  {
   "cell_type": "markdown",
   "metadata": {},
   "source": [
    "# 3 - We define the ES that will evolve solutions"
   ]
  },
  {
   "cell_type": "code",
   "execution_count": 46,
   "metadata": {
    "collapsed": false
   },
   "outputs": [],
   "source": [
    "# We run an evolutionary strategy ES(1 + offspring)\n",
    "def run_experiment(max_gen, offsprings, quadratic_error, initial_conditions_error, dCGP, screen_output=False):\n",
    "    chromosome = [1] * offsprings\n",
    "    fitness = [1] *offsprings\n",
    "    best_chromosome = dCGP.get()\n",
    "    best_fitness = quadratic_error(dCGP, grid) + initial_conditions_error(dCGP)\n",
    "    for g in range(max_gen):\n",
    "        for i in range(offsprings):\n",
    "            dCGP.set(best_chromosome)\n",
    "            dCGP.mutate_active(i) #  we mutate a number of increasingly higher active genes\n",
    "            qe = quadratic_error(dCGP, grid)\n",
    "            ie = initial_conditions_error(dCGP)\n",
    "            fitness[i] = ie + qe\n",
    "            chromosome[i] = dCGP.get()\n",
    "        for i in range(offsprings):\n",
    "            if fitness[i] <= best_fitness:\n",
    "                if (fitness[i] != best_fitness) and screen_output:\n",
    "                    print(\"New best found: gen: \", g, \" value: \", fitness[i])\n",
    "                best_chromosome = chromosome[i]\n",
    "                best_fitness = fitness[i]\n",
    "                dCGP.set(best_chromosome)\n",
    "        if best_fitness < 1e-7:\n",
    "            break\n",
    "    return g, best_chromosome"
   ]
  },
  {
   "cell_type": "markdown",
   "metadata": {},
   "source": [
    "## 4 - We consider the following Ordinary Differential Equation (ODE1):\n",
    "\n",
    "$\\frac{dy}{dx} = \\frac{2x - y}{x}$, with $y(0.1) = 20.1$ and $x \\in [0.1,1]$\n",
    "\n",
    "we demand its punctual validity over a grid of $N$ equally spaced points.\n",
    "\n",
    "The solution to the ODE is $y = x + \\frac 2x$"
   ]
  },
  {
   "cell_type": "code",
   "execution_count": 47,
   "metadata": {
    "collapsed": false
   },
   "outputs": [],
   "source": [
    "# We define the quadratic error of the dCGP in the grid points\n",
    "def qe_ODE1(dCGP, grid):\n",
    "    retval = 0\n",
    "    out = dCGP([grid])[0]\n",
    "    y = np.array(out.constant_cf)\n",
    "    dydx = np.array(out.get_derivative({\"dx\" : 1}))\n",
    "    x = np.array(grid.constant_cf)\n",
    "    ode1 = (2. * x - y) / x\n",
    "    retval += (ode1 - dydx) * (ode1 - dydx)\n",
    "    return sum(retval)"
   ]
  },
  {
   "cell_type": "code",
   "execution_count": 48,
   "metadata": {
    "collapsed": false
   },
   "outputs": [],
   "source": [
    "# We define a penalty term associated to the initial conditions violation\n",
    "def ic_ODE1(dCGP):\n",
    "    x0 = 1\n",
    "    y0 = 3\n",
    "    out = dCGP([gdual([x0])])[0]\n",
    "    return (out.constant_cf[0] - y0) * (out.constant_cf[0] - y0)"
   ]
  },
  {
   "cell_type": "code",
   "execution_count": 49,
   "metadata": {
    "collapsed": false
   },
   "outputs": [],
   "source": [
    "# We construct the grid of points. Since the ODE only contains first order derivatives we use truncation order 1.\n",
    "# Since we are using vectorized gdual we can instantiate only one gdual\n",
    "\n",
    "values = np.linspace(0.1,1,10)\n",
    "grid = gdual(values, \"x\", 1)"
   ]
  },
  {
   "cell_type": "code",
   "execution_count": 51,
   "metadata": {
    "collapsed": false
   },
   "outputs": [
    {
     "name": "stdout",
     "output_type": "stream",
     "text": [
      "restart: \t gen: \t expression:\n",
      "0 \t\t 278 \t ['(x+((((x/x)/x)/(x/x))+((x/x)/x)))']  a.k.a  [x + 2/x]\n",
      "1 \t\t 307 \t ['(((x+x)/(x*x))+x)']  a.k.a  [x + 2/x]\n",
      "2 \t\t 277 \t ['(((x/(x*x))+x)+(x/(x*x)))']  a.k.a  [x + 2/x]\n",
      "6 \t\t 323 \t ['(((x/(x*x))+x)+(x/(x*x)))']  a.k.a  [x + 2/x]\n",
      "9 \t\t 62 \t ['(x+(((x/x)+(x/x))/x))']  a.k.a  [x + 2/x]\n",
      "16 \t\t 271 \t ['((x/(x*x))+(x+(x/(x*x))))']  a.k.a  [x + 2/x]\n",
      "19 \t\t 225 \t ['((((x/x)/x)+((x/x)/x))+x)']  a.k.a  [x + 2/x]\n",
      "22 \t\t 288 \t ['((((x/x)+(x/x))/x)+x)']  a.k.a  [x + 2/x]\n",
      "29 \t\t 358 \t ['(x+((x+x)/(x*x)))']  a.k.a  [x + 2/x]\n",
      "30 \t\t 129 \t ['(x+(((x/x)+(x/x))/x))']  a.k.a  [x + 2/x]\n",
      "34 \t\t 179 \t ['(((((x+x)+(x+x))/x)/(x+x))+x)']  a.k.a  [x + 2/x]\n",
      "35 \t\t 146 \t ['(((x+x)/(x*x))+x)']  a.k.a  [x + 2/x]\n",
      "37 \t\t 364 \t ['(x+(((x+x)/x)/exp(log(x))))']  a.k.a  [x + 2/x]\n",
      "39 \t\t 21 \t ['((((sin(x)/sin(x))+(sin(x)/sin(x)))/x)+x)']  a.k.a  [x + 2/x]\n",
      "40 \t\t 175 \t ['((((x/x)*x)+((x/x)/x))+((x/x)*((x/x)/x)))']  a.k.a  [x + 2/x]\n",
      "48 \t\t 189 \t ['((((x/x)/x)+((x/x)/x))+x)']  a.k.a  [x + 2/x]\n",
      "49 \t\t 99 \t ['(x+((((x*x)+(x*x))/x)/(x*x)))']  a.k.a  [x + 2/x]\n",
      "50 \t\t 288 \t ['(((x/(x*x))+x)+(x/(x*x)))']  a.k.a  [x + 2/x]\n",
      "52 \t\t 380 \t ['((((x/x)+(x/x))/x)+x)']  a.k.a  [x + 2/x]\n",
      "54 \t\t 209 \t ['(((((x/x)+(x/x))/(x/x))/x)+x)']  a.k.a  [x + 2/x]\n",
      "56 \t\t 166 \t ['((((x/x)/x)+((x/x)/x))+x)']  a.k.a  [x + 2/x]\n",
      "58 \t\t 64 \t ['(((x/x)/x)+(((x/x)/x)+x))']  a.k.a  [x + 2/x]\n",
      "67 \t\t 162 \t ['(((((x/x)/x)*(x/x))+(((x/x)/x)*(x/x)))+x)']  a.k.a  [x + 2/x]\n",
      "72 \t\t 115 \t ['(x+(((x+x)/x)/x))']  a.k.a  [x + 2/x]\n",
      "77 \t\t 222 \t ['(((x/x)/x)+(x+((x/x)*((x/x)/x))))']  a.k.a  [x + 2/x]\n",
      "82 \t\t 359 \t ['(((((x+log(x))/x)/(x+log(x)))+(((x+log(x))/x)/(x+log(x))))+x)']  a.k.a  [x + 2/x]\n",
      "84 \t\t 195 \t ['(x+(((x/x)+((x/x)/(x/x)))/x))']  a.k.a  [x + 2/x]\n",
      "89 \t\t 11 \t ['(x+((x+x)/(x*x)))']  a.k.a  [x + 2/x]\n",
      "92 \t\t 302 \t ['(x+(((x/x)+((x/x)*(x/x)))/x))']  a.k.a  [x + 2/x]\n",
      "94 \t\t 351 \t ['(((x/x)/(x/((x/x)+(x/x))))+((x/x)*x))']  a.k.a  [x + 2/x]\n",
      "95 \t\t 201 \t ['(x+((((x+x)*((x+x)+(x+x)))/((x+x)*(x+x)))/x))']  a.k.a  [x + 2/x]\n",
      "98 \t\t 149 \t ['(x+(((x*x)/(x*(x*x)))+((x*x)/(x*(x*x)))))']  a.k.a  [x + 2/x]\n",
      "99 \t\t 200 \t ['(x+((x+x)/(x*x)))']  a.k.a  [x + 2/x]\n"
     ]
    }
   ],
   "source": [
    "# We run nexp experiments to accumulate statistic for the ERT\n",
    "nexp = 100\n",
    "offsprings = 10\n",
    "stop = 400\n",
    "res = []\n",
    "print(\"restart: \\t gen: \\t expression:\")\n",
    "for i in range(nexp):\n",
    "    dCGP = expression(inputs=1, outputs=1, rows=1, cols=15, levels_back=16, arity=2, kernels=kernels, seed = randint(0,100000))\n",
    "    g, best_chromosome = run_experiment(max_gen = stop, offsprings = offsprings, \\\n",
    "            quadratic_error=qe_ODE1, initial_conditions_error=ic_ODE1, dCGP = dCGP)\n",
    "    res.append(g)\n",
    "    dCGP.set(best_chromosome)\n",
    "    if g < (stop-1):\n",
    "        print(i, \"\\t\\t\", res[i], \"\\t\", dCGP([\"x\"]), \" a.k.a \", dCGP.simplify([\"x\"]))\n",
    "res = np.array(res)"
   ]
  },
  {
   "cell_type": "code",
   "execution_count": 11,
   "metadata": {
    "collapsed": false
   },
   "outputs": [
    {
     "name": "stdout",
     "output_type": "stream",
     "text": [
      "ERT Expected run time - avg. number of function evaluations needed:  9822.35294118\n",
      "Avg. number of function evaluations from Tsoulos paper:  130600\n"
     ]
    }
   ],
   "source": [
    "ERT = sum(res) / sum(res<(stop-1))\n",
    "print(\"ERT Expected run time - avg. number of function evaluations needed: \", ERT * offsprings)\n",
    "print(\"Avg. number of function evaluations from Tsoulos paper: \", 653 * 200)"
   ]
  },
  {
   "cell_type": "markdown",
   "metadata": {
    "collapsed": true
   },
   "source": [
    "## 5 - We consider the following Ordinary Differential Equation (ODE2):\n",
    "\n",
    "$\\frac{dy}{dx} = \\frac{1 - ycos(x)}{sin(x)}$, with $y(0.1) = \\frac{2.1}{sin(0,1)}$ and $x \\in [0.1,1]$\n",
    "\n",
    "we demand its punctual validity over a grid of $N$ equally spaced points.\n",
    "\n",
    "NOTE: The solution to the ODE is $y = \\frac{x+2}{sin(x)}$"
   ]
  },
  {
   "cell_type": "code",
   "execution_count": 52,
   "metadata": {
    "collapsed": true
   },
   "outputs": [],
   "source": [
    "# We construct the grid of points. Since the ODE only contains first order derivatives we use truncation order 1.\n",
    "# Since we are using vectorized gdual we can instantiate only one gdual\n",
    "\n",
    "values = np.linspace(0.1,1,10)\n",
    "grid = gdual(values, \"x\", 1)"
   ]
  },
  {
   "cell_type": "code",
   "execution_count": 53,
   "metadata": {
    "collapsed": true
   },
   "outputs": [],
   "source": [
    "# We define the quadratic error of the dCGP in the grid points\n",
    "def qe_ODE2(dCGP, grid):\n",
    "    retval = 0\n",
    "    out = dCGP([grid])[0]\n",
    "    y = np.array(out.constant_cf)\n",
    "    dydx = np.array(out.get_derivative({\"dx\" : 1}))\n",
    "    x = np.array(grid.constant_cf)\n",
    "    ode2 = (1. -  y * cos(x)) / sin(x)\n",
    "    retval += (ode2 - dydx) * (ode2 - dydx)\n",
    "    return sum(retval)"
   ]
  },
  {
   "cell_type": "code",
   "execution_count": 54,
   "metadata": {
    "collapsed": true
   },
   "outputs": [],
   "source": [
    "# We define a penalty term associated to the initial conditions violation\n",
    "dummy = (2.1)/sin(0.1)\n",
    "def ic_ODE2(dCGP):\n",
    "    x0 = 0.1\n",
    "    y0 = dummy\n",
    "    out = dCGP([gdual([x0])])[0]\n",
    "    return (out.constant_cf[0] - y0) * (out.constant_cf[0] - y0)"
   ]
  },
  {
   "cell_type": "code",
   "execution_count": 56,
   "metadata": {
    "collapsed": false
   },
   "outputs": [
    {
     "name": "stdout",
     "output_type": "stream",
     "text": [
      "restart: \t gen: \t expression:\n",
      "0 \t\t 85 \t ['((((exp(x)/exp(x))+x)+(exp(x)/exp(x)))/sin(x))']  a.k.a  [x/sin(x) + 2/sin(x)]\n",
      "16 \t\t 251 \t ['((x/sin(x))+(((x/sin(x))+(x/sin(x)))/x))']  a.k.a  [x/sin(x) + 2/sin(x)]\n",
      "23 \t\t 314 \t ['((((x/x)+(x/x))+x)/sin(x))']  a.k.a  [x/sin(x) + 2/sin(x)]\n",
      "26 \t\t 324 \t ['((((x/x)+x)+(x/x))/sin(x))']  a.k.a  [x/sin(x) + 2/sin(x)]\n",
      "28 \t\t 124 \t ['((((x/x)+(x*(x/x)))+(x/x))/sin(x))']  a.k.a  [x/sin(x) + 2/sin(x)]\n",
      "36 \t\t 50 \t ['(((x/(x/x))+((x/x)+(x/x)))/sin(x))']  a.k.a  [x/sin(x) + 2/sin(x)]\n",
      "44 \t\t 110 \t ['((x+((x+x)/x))/sin(x))']  a.k.a  [x/sin(x) + 2/sin(x)]\n",
      "54 \t\t 230 \t ['(((x/x)+((x+(x/x))/(x/x)))/sin(exp(log(x))))']  a.k.a  [x/sin(x) + 2/sin(x)]\n",
      "55 \t\t 70 \t ['((x/sin(x))+(((x/sin(x))+(x/sin(x)))/(sin(x)*(x/sin(x)))))']  a.k.a  [x/sin(x) + 2/sin(x)]\n",
      "62 \t\t 188 \t ['((((x/sin(x))/x)+(x/sin(x)))+((x/sin(x))/x))']  a.k.a  [x/sin(x) + 2/sin(x)]\n",
      "65 \t\t 248 \t ['((x/sin(x))+log(exp((((x/x)+(x/x))/sin(x)))))']  a.k.a  [x/sin(x) + 2/sin(x)]\n",
      "70 \t\t 106 \t ['(((x*(x/x))+log((exp((x/x))*exp((x/x)))))/sin((x/(x/x))))']  a.k.a  [x/sin(x) + 2/sin(x)]\n",
      "72 \t\t 203 \t ['((((sin(sin(x))/sin(sin(x)))+x)+(sin(sin(x))/sin(sin(x))))/sin(x))']  a.k.a  [x/sin(x) + 2/sin(x)]\n",
      "74 \t\t 108 \t ['(((x/x)+(x+(x/x)))/sin(x))']  a.k.a  [x/sin(x) + 2/sin(x)]\n"
     ]
    }
   ],
   "source": [
    "# We run nexp experiments to accumulate statistic for the ERT\n",
    "nexp = 100\n",
    "stop = 400\n",
    "offsprings = 10\n",
    "res = []\n",
    "print(\"restart: \\t gen: \\t expression:\")\n",
    "for i in range(nexp):\n",
    "    dCGP = expression(inputs=1, outputs=1, rows=1, cols=15, levels_back=16, arity=2, kernels=kernels, seed = randint(0,100000))\n",
    "    g, best_chromosome = run_experiment(max_gen = stop, offsprings = offsprings, \\\n",
    "            quadratic_error=qe_ODE2, initial_conditions_error=ic_ODE2, dCGP=dCGP)\n",
    "    res.append(g)\n",
    "    dCGP.set(best_chromosome)\n",
    "    if g < (stop-1):\n",
    "        print(i, \"\\t\\t\", res[i], \"\\t\", dCGP([\"x\"]), \" a.k.a \", dCGP.simplify([\"x\"]))\n",
    "res = np.array(res)"
   ]
  },
  {
   "cell_type": "code",
   "execution_count": 17,
   "metadata": {
    "collapsed": false
   },
   "outputs": [
    {
     "name": "stdout",
     "output_type": "stream",
     "text": [
      "ERT Expected run time - avg. number of function evaluations needed:  37556.0\n",
      "Avg. number of function evaluations from Tsoulos paper:  148400\n"
     ]
    }
   ],
   "source": [
    "ERT = sum(res) / sum(res<(stop-1))\n",
    "print(\"ERT Expected run time - avg. number of function evaluations needed: \", ERT * offsprings)\n",
    "print(\"Avg. number of function evaluations from Tsoulos paper: \", 742 * 200)"
   ]
  },
  {
   "cell_type": "markdown",
   "metadata": {},
   "source": [
    "## 6 - We consider the following Ordinary Differential Equation (ODE5):\n",
    "\n",
    "$\\frac{d^2y}{dx^2} = 6\\frac{dy}{dx} - 9y$, with $y(0) = 0$, $\\frac{dy}{dx}(0)=2$ and $x \\in [0,1]$\n",
    "\n",
    "we demand its punctual validity over a grid of $N$ equally spaced points.\n",
    "\n",
    "NOTE: The solution to the ODE is $y = 2x \\exp(3x)$"
   ]
  },
  {
   "cell_type": "code",
   "execution_count": 61,
   "metadata": {
    "collapsed": true
   },
   "outputs": [],
   "source": [
    "# We construct the grid of points. Since the ODE only contains second order derivatives we use truncation order 2.\n",
    "# Since we are using vectorized gdual we can instantiate only one gdual\n",
    "\n",
    "values = np.linspace(0,1,10)\n",
    "grid = gdual(values, \"x\", 2)"
   ]
  },
  {
   "cell_type": "code",
   "execution_count": 62,
   "metadata": {
    "collapsed": true
   },
   "outputs": [],
   "source": [
    "# We define the quadratic error of the dCGP in the grid points\n",
    "def qe_ODE5(dCGP, grid):\n",
    "    retval = 0\n",
    "    out = dCGP([grid])[0]\n",
    "    y = np.array(out.constant_cf)\n",
    "    dydx = np.array(out.get_derivative({\"dx\" : 1}))\n",
    "    dydx2 = np.array(out.get_derivative({\"dx\" : 2}))\n",
    "    x = np.array(grid.constant_cf)\n",
    "    ode5 = 6. * dydx - 9 * y\n",
    "    retval += (ode5 - dydx2) * (ode5 - dydx2)\n",
    "    return sum(retval)"
   ]
  },
  {
   "cell_type": "code",
   "execution_count": 63,
   "metadata": {
    "collapsed": true
   },
   "outputs": [],
   "source": [
    "# We define a penalty term associated to the initial conditions violation\n",
    "def ic_ODE5(dCGP):\n",
    "    x0 = 1e-16 # avoids what seems a numerical problem with vectorized dual?\n",
    "    y0 = 0.\n",
    "    dy0 = 2.\n",
    "    out = dCGP([gdual([x0], \"x\", 1)])[0]\n",
    "    dCGP_y0 = out.constant_cf[0]\n",
    "    dCGP_dy0 = out.get_derivative({\"dx\" : 1})[0]\n",
    "    return (dCGP_y0 - y0) * (dCGP_y0 - y0) + (dCGP_dy0 - dy0) * (dCGP_dy0 - dy0)"
   ]
  },
  {
   "cell_type": "code",
   "execution_count": 64,
   "metadata": {
    "collapsed": false
   },
   "outputs": [
    {
     "name": "stdout",
     "output_type": "stream",
     "text": [
      "restart: \t gen: \t expression:\n",
      "9 \t\t 221 \t ['((exp(x)*(exp(x)*exp(x)))*log((exp(x)*exp(x))))']  a.k.a  [2*x*exp(3*x)]\n",
      "11 \t\t 221 \t ['(log((exp(x)*exp(x)))*(exp(x)*(exp(x)*exp(x))))']  a.k.a  [2*x*exp(3*x)]\n",
      "12 \t\t 145 \t ['(exp(x)*((x+x)*exp((x+x))))']  a.k.a  [2*x*exp(3*x)]\n",
      "29 \t\t 383 \t ['((x+x)*exp((x+(x+x))))']  a.k.a  [2*x*exp(3*x)]\n",
      "32 \t\t 106 \t ['((x+x)*exp(((x+x)+x)))']  a.k.a  [2*x*exp(3*x)]\n",
      "33 \t\t 371 \t ['(exp(((x+x)+x))*(x+x))']  a.k.a  [2*x*exp(3*x)]\n",
      "35 \t\t 241 \t ['((exp(x)*((exp(x)*exp(x))+(exp(x)*exp(x))))*log(exp(x)))']  a.k.a  [2*x*exp(3*x)]\n",
      "39 \t\t 211 \t ['(exp(x)*(exp((x+x))*(x+x)))']  a.k.a  [2*x*exp(3*x)]\n",
      "66 \t\t 270 \t ['(exp(x)*(((x+x)*exp(x))*exp(x)))']  a.k.a  [2*x*exp(3*x)]\n",
      "67 \t\t 84 \t ['((exp(x)*exp((x+x)))*(x+x))']  a.k.a  [2*x*exp(3*x)]\n",
      "68 \t\t 184 \t ['((x*(exp(x)*exp(x)))*(exp(x)+exp(x)))']  a.k.a  [2*x*exp(3*x)]\n",
      "70 \t\t 393 \t ['((exp(x)*((exp(x)+exp(x))*x))*exp(x))']  a.k.a  [2*x*exp(3*x)]\n",
      "72 \t\t 395 \t ['((exp((x+x))*exp(x))*(x+x))']  a.k.a  [2*x*exp(3*x)]\n",
      "78 \t\t 250 \t ['(exp((x+log(exp(x))))*((x+log(exp(x)))*exp(x)))']  a.k.a  [2*x*exp(3*x)]\n",
      "91 \t\t 18 \t ['((exp(x)*(x+x))*exp((x+x)))']  a.k.a  [2*x*exp(3*x)]\n"
     ]
    }
   ],
   "source": [
    "# We run nexp experiments to accumulate statistic for the ERT\n",
    "nexp = 100\n",
    "stop = 400\n",
    "offsprings = 10\n",
    "res = []\n",
    "print(\"restart: \\t gen: \\t expression:\")\n",
    "for i in range(nexp):\n",
    "    dCGP = expression(inputs=1, outputs=1, rows=1, cols=15, levels_back=16, arity=2, kernels=kernels, seed = randint(0,100000))\n",
    "    g, best_chromosome = run_experiment(max_gen = stop, offsprings = offsprings, \\\n",
    "            quadratic_error=qe_ODE5, initial_conditions_error=ic_ODE5, dCGP=dCGP)\n",
    "    res.append(g)\n",
    "    dCGP.set(best_chromosome)\n",
    "    if g < (stop-1):\n",
    "        print(i, \"\\t\\t\", res[i], \"\\t\", dCGP([\"x\"]), \" a.k.a \", dCGP.simplify([\"x\"]))\n",
    "res = np.array(res)"
   ]
  },
  {
   "cell_type": "code",
   "execution_count": 65,
   "metadata": {
    "collapsed": false
   },
   "outputs": [
    {
     "name": "stdout",
     "output_type": "stream",
     "text": [
      "ERT Expected run time - avg. number of function evaluations needed:  24938.6666667\n",
      "Avg. number of function evaluations from Tsoulos paper:  88200\n"
     ]
    }
   ],
   "source": [
    "ERT = sum(res) / sum(res<(stop-1))\n",
    "print(\"ERT Expected run time - avg. number of function evaluations needed: \", ERT * offsprings)\n",
    "print(\"Avg. number of function evaluations from Tsoulos paper: \", 441 * 200)"
   ]
  },
  {
   "cell_type": "markdown",
   "metadata": {},
   "source": [
    "## 7 - We consider the following non linear Ordinary Differential Equation (NLODE3):\n",
    "\n",
    "$\\frac{d^2y}{dx^2}\\frac{dy}{dx} = -\\frac4{x^3}$, with $y(1) = 0$, and $x \\in [1,2]$\n",
    "\n",
    "we demand its punctual validity over a grid of $N$ equally spaced points.\n",
    "\n",
    "NOTE: The solution to the ODE is $y = log(x^2)$"
   ]
  },
  {
   "cell_type": "code",
   "execution_count": 66,
   "metadata": {
    "collapsed": true
   },
   "outputs": [],
   "source": [
    "# We construct the grid of points. Since the ODE only contains second order derivatives we use truncation order 2.\n",
    "# Since we are using vectorized gdual we can instantiate only one gdual\n",
    "\n",
    "values = np.linspace(1,2,10)\n",
    "grid = gdual(values, \"x\", 2)"
   ]
  },
  {
   "cell_type": "code",
   "execution_count": 67,
   "metadata": {
    "collapsed": true
   },
   "outputs": [],
   "source": [
    "# We define the quadratic error of the dCGP in the grid points\n",
    "def qe_NLODE3(dCGP, grid):\n",
    "    retval = 0\n",
    "    out = dCGP([grid])[0]\n",
    "    y = np.array(out.constant_cf)\n",
    "    dydx = np.array(out.get_derivative({\"dx\" : 1}))\n",
    "    dydx2 = np.array(out.get_derivative({\"dx\" : 2}))\n",
    "    x = np.array(grid.constant_cf)\n",
    "    nlode3 = dydx2*dydx\n",
    "    retval += (nlode3 + 4/x/x/x) * (nlode3 + 4/x/x/x)\n",
    "    return sum(retval)"
   ]
  },
  {
   "cell_type": "code",
   "execution_count": 68,
   "metadata": {
    "collapsed": true
   },
   "outputs": [],
   "source": [
    "# We define a penalty term associated to the initial conditions violation\n",
    "def ic_NLODE3(dCGP):\n",
    "    x0 = 1.\n",
    "    y0 = 0.\n",
    "    out = dCGP([gdual([x0])])[0]\n",
    "    dCGP_y0 = out.constant_cf[0]\n",
    "    dCGP_dy0 = out.get_derivative({\"dx\" : 1})[0]\n",
    "    return (dCGP_y0 - y0) * (dCGP_y0 - y0)"
   ]
  },
  {
   "cell_type": "code",
   "execution_count": 69,
   "metadata": {
    "collapsed": false
   },
   "outputs": [
    {
     "name": "stdout",
     "output_type": "stream",
     "text": [
      "restart: \t gen: \t expression:\n",
      "0 \t\t 22 \t ['(log(x)+log(x))']  a.k.a  [2*log(x)]\n",
      "1 \t\t 18 \t ['(log((x*(x/x)))+log((x*(x/x))))']  a.k.a  [2*log(x)]\n",
      "2 \t\t 16 \t ['log((x*x))']  a.k.a  [log(x**2)]\n",
      "3 \t\t 27 \t ['log((x*x))']  a.k.a  [log(x**2)]\n",
      "5 \t\t 23 \t ['log(log(exp((x*x))))']  a.k.a  [log(x**2)]\n",
      "6 \t\t 23 \t ['log((x*x))']  a.k.a  [log(x**2)]\n",
      "7 \t\t 9 \t ['log((x*x))']  a.k.a  [log(x**2)]\n",
      "8 \t\t 5 \t ['log((x*x))']  a.k.a  [log(x**2)]\n",
      "9 \t\t 8 \t ['log((x*x))']  a.k.a  [log(x**2)]\n",
      "10 \t\t 8 \t ['(log(x)+log(x))']  a.k.a  [2*log(x)]\n",
      "11 \t\t 0 \t ['log((x*x))']  a.k.a  [log(x**2)]\n",
      "13 \t\t 79 \t ['log(((x*x)/(sin(x)/sin(x))))']  a.k.a  [log(x**2)]\n",
      "14 \t\t 12 \t ['log((x*x))']  a.k.a  [log(x**2)]\n",
      "15 \t\t 0 \t ['log((x*x))']  a.k.a  [log(x**2)]\n",
      "16 \t\t 15 \t ['log((x*x))']  a.k.a  [log(x**2)]\n",
      "17 \t\t 1 \t ['log((((x+(x*x))/(x+(x*x)))/(x*x)))']  a.k.a  [log(x**(-2))]\n",
      "18 \t\t 8 \t ['log((x*x))']  a.k.a  [log(x**2)]\n",
      "19 \t\t 29 \t ['log(((x/x)/((x*x)/(x/x))))']  a.k.a  [log(x**(-2))]\n",
      "21 \t\t 34 \t ['(log(x)+log(x))']  a.k.a  [2*log(x)]\n",
      "22 \t\t 1 \t ['log((x*x))']  a.k.a  [log(x**2)]\n",
      "23 \t\t 0 \t ['log((x*x))']  a.k.a  [log(x**2)]\n",
      "24 \t\t 15 \t ['(log((x*x))/(((x*x)+(x*x))/((x*x)+(x*x))))']  a.k.a  [log(x**2)]\n",
      "25 \t\t 0 \t ['(log(x)+log(x))']  a.k.a  [2*log(x)]\n",
      "26 \t\t 86 \t ['(((x/x)+(x/x))*log(x))']  a.k.a  [2*log(x)]\n",
      "27 \t\t 6 \t ['(log(x)+log(x))']  a.k.a  [2*log(x)]\n",
      "28 \t\t 7 \t ['log((x*x))']  a.k.a  [log(x**2)]\n",
      "29 \t\t 33 \t ['((cos(x)/cos(x))*log((x*x)))']  a.k.a  [log(x**2)]\n",
      "30 \t\t 29 \t ['log((x*x))']  a.k.a  [log(x**2)]\n",
      "31 \t\t 9 \t ['(log(x)+log(x))']  a.k.a  [2*log(x)]\n",
      "32 \t\t 24 \t ['(log(x)+log(x))']  a.k.a  [2*log(x)]\n",
      "33 \t\t 44 \t ['(log(x)+log(x))']  a.k.a  [2*log(x)]\n",
      "35 \t\t 56 \t ['log((x*x))']  a.k.a  [log(x**2)]\n",
      "36 \t\t 6 \t ['(log(x)+log(x))']  a.k.a  [2*log(x)]\n",
      "37 \t\t 5 \t ['(log(x)+log(x))']  a.k.a  [2*log(x)]\n",
      "38 \t\t 32 \t ['(log(x)+log(x))']  a.k.a  [2*log(x)]\n",
      "39 \t\t 4 \t ['log((x*x))']  a.k.a  [log(x**2)]\n",
      "40 \t\t 1 \t ['log((x*x))']  a.k.a  [log(x**2)]\n",
      "41 \t\t 12 \t ['(log(x)+log(x))']  a.k.a  [2*log(x)]\n",
      "42 \t\t 36 \t ['log((((x/x)/x)*((x/x)/x)))']  a.k.a  [log(x**(-2))]\n",
      "43 \t\t 25 \t ['(((x/x)+(x/x))*log((x/(x/x))))']  a.k.a  [2*log(x)]\n",
      "44 \t\t 55 \t ['log((x*exp(log(x))))']  a.k.a  [log(x**2)]\n",
      "45 \t\t 7 \t ['(log(x)+log(x))']  a.k.a  [2*log(x)]\n",
      "46 \t\t 29 \t ['log((x*x))']  a.k.a  [log(x**2)]\n",
      "47 \t\t 15 \t ['log((x*x))']  a.k.a  [log(x**2)]\n",
      "48 \t\t 12 \t ['log((x*x))']  a.k.a  [log(x**2)]\n",
      "49 \t\t 7 \t ['log((x*x))']  a.k.a  [log(x**2)]\n",
      "50 \t\t 23 \t ['(log(x)+log(x))']  a.k.a  [2*log(x)]\n",
      "51 \t\t 22 \t ['(log(x)+log(x))']  a.k.a  [2*log(x)]\n",
      "53 \t\t 9 \t ['log((x*x))']  a.k.a  [log(x**2)]\n",
      "54 \t\t 40 \t ['log((x*x))']  a.k.a  [log(x**2)]\n",
      "55 \t\t 1 \t ['log((x*x))']  a.k.a  [log(x**2)]\n",
      "56 \t\t 13 \t ['(log(x)+log(x))']  a.k.a  [2*log(x)]\n",
      "57 \t\t 2 \t ['(log(x)+log(x))']  a.k.a  [2*log(x)]\n",
      "58 \t\t 15 \t ['log((x*x))']  a.k.a  [log(x**2)]\n",
      "60 \t\t 0 \t ['log((x*x))']  a.k.a  [log(x**2)]\n",
      "61 \t\t 3 \t ['log((x*x))']  a.k.a  [log(x**2)]\n",
      "62 \t\t 54 \t ['log((x*x))']  a.k.a  [log(x**2)]\n",
      "63 \t\t 59 \t ['(log(x)+log(x))']  a.k.a  [2*log(x)]\n",
      "64 \t\t 24 \t ['(log(x)+log(exp(log(x))))']  a.k.a  [2*log(x)]\n",
      "66 \t\t 9 \t ['log((x*x))']  a.k.a  [log(x**2)]\n",
      "67 \t\t 0 \t ['log((x*x))']  a.k.a  [log(x**2)]\n",
      "68 \t\t 5 \t ['log((x*x))']  a.k.a  [log(x**2)]\n",
      "69 \t\t 42 \t ['log((x*x))']  a.k.a  [log(x**2)]\n",
      "70 \t\t 19 \t ['log((x*x))']  a.k.a  [log(x**2)]\n",
      "71 \t\t 20 \t ['(log(x)+log(x))']  a.k.a  [2*log(x)]\n",
      "72 \t\t 21 \t ['log((x*x))']  a.k.a  [log(x**2)]\n",
      "73 \t\t 118 \t ['log(exp((log(x)+log(x))))']  a.k.a  [log(x**2)]\n",
      "74 \t\t 14 \t ['log((x*x))']  a.k.a  [log(x**2)]\n",
      "75 \t\t 6 \t ['log((x*x))']  a.k.a  [log(x**2)]\n",
      "76 \t\t 17 \t ['log((x*x))']  a.k.a  [log(x**2)]\n",
      "77 \t\t 16 \t ['(log(x)+log(x))']  a.k.a  [2*log(x)]\n",
      "78 \t\t 1 \t ['(log(x)+log(x))']  a.k.a  [2*log(x)]\n",
      "79 \t\t 16 \t ['log((log(exp(x))*x))']  a.k.a  [log(x**2)]\n",
      "80 \t\t 8 \t ['log((x*x))']  a.k.a  [log(x**2)]\n",
      "81 \t\t 15 \t ['(log(x)+log(x))']  a.k.a  [2*log(x)]\n",
      "82 \t\t 10 \t ['((log(x)*(x/x))+((x/x)*(log(x)*(x/x))))']  a.k.a  [2*log(x)]\n",
      "83 \t\t 8 \t ['log((x*x))']  a.k.a  [log(x**2)]\n",
      "84 \t\t 4 \t ['(log(x)+log(x))']  a.k.a  [2*log(x)]\n",
      "85 \t\t 3 \t ['(log(x)+log(x))']  a.k.a  [2*log(x)]\n",
      "86 \t\t 31 \t ['(log(x)+log(x))']  a.k.a  [2*log(x)]\n",
      "87 \t\t 30 \t ['(log(x)+log(x))']  a.k.a  [2*log(x)]\n",
      "88 \t\t 20 \t ['(log(x)+log(x))']  a.k.a  [2*log(x)]\n",
      "89 \t\t 52 \t ['log((x*x))']  a.k.a  [log(x**2)]\n",
      "90 \t\t 22 \t ['(log(x)+log(x))']  a.k.a  [2*log(x)]\n",
      "91 \t\t 7 \t ['log((x*x))']  a.k.a  [log(x**2)]\n",
      "92 \t\t 2 \t ['log((x*log(exp(x))))']  a.k.a  [log(x**2)]\n",
      "93 \t\t 6 \t ['(log(x)+log(x))']  a.k.a  [2*log(x)]\n",
      "94 \t\t 5 \t ['(log(exp(log(x)))+log(x))']  a.k.a  [2*log(x)]\n",
      "95 \t\t 11 \t ['log((x*x))']  a.k.a  [log(x**2)]\n",
      "96 \t\t 9 \t ['(log(x)+log(x))']  a.k.a  [2*log(x)]\n",
      "97 \t\t 23 \t ['log((x*x))']  a.k.a  [log(x**2)]\n",
      "98 \t\t 9 \t ['(log(x)+log(x))']  a.k.a  [2*log(x)]\n",
      "99 \t\t 1 \t ['(log(exp(log(x)))+log(x))']  a.k.a  [2*log(x)]\n"
     ]
    }
   ],
   "source": [
    "# We run nexp experiments to accumulate statistic for the ERT\n",
    "nexp = 100\n",
    "stop = 400\n",
    "offsprings = 10\n",
    "res = []\n",
    "print(\"restart: \\t gen: \\t expression:\")\n",
    "for i in range(nexp):\n",
    "    dCGP = expression(inputs=1, outputs=1, rows=1, cols=15, levels_back=16, arity=2, kernels=kernels, seed = randint(0,100000))\n",
    "    g, best_chromosome = run_experiment(max_gen = stop, offsprings = offsprings, \\\n",
    "            quadratic_error=qe_NLODE3, initial_conditions_error=ic_NLODE3, dCGP=dCGP)\n",
    "    res.append(g)\n",
    "    dCGP.set(best_chromosome)\n",
    "    if g < (stop-1):\n",
    "        print(i, \"\\t\\t\", res[i], \"\\t\", dCGP([\"x\"]), \" a.k.a \", dCGP.simplify([\"x\"]))\n",
    "res = np.array(res)"
   ]
  },
  {
   "cell_type": "code",
   "execution_count": 29,
   "metadata": {
    "collapsed": false
   },
   "outputs": [
    {
     "name": "stdout",
     "output_type": "stream",
     "text": [
      "ERT Expected run time - avg. number of function evaluations needed:  540.97826087\n",
      "Avg. number of function evaluations from Tsoulos paper:  38200\n"
     ]
    }
   ],
   "source": [
    "ERT = sum(res) / sum(res<(stop-1))\n",
    "print(\"ERT Expected run time - avg. number of function evaluations needed: \", ERT * offsprings)\n",
    "print(\"Avg. number of function evaluations from Tsoulos paper: \", 191 * 200)"
   ]
  },
  {
   "cell_type": "markdown",
   "metadata": {
    "collapsed": true
   },
   "source": [
    "## 8 - We consider the following non linear Patial Differential Equation (PDE2):\n",
    "\n",
    "$\\nabla^2 \\psi(x,y) = -\\psi(x,y)$ with $x\\in[0,1]$, $y\\in[0,1]$ and boundary conditions: $\\psi(0,y) = 0$, $\\psi(1,y) = \\sin(1)\\cos(y)$\n",
    "\n",
    "we demand its punctual validity over a squared grid of $N$ equally spaced points.\n",
    "\n",
    "NOTE: The solution to the PDE is $\\psi(x,y) = \\sin(x)\\cos(y)$"
   ]
  },
  {
   "cell_type": "code",
   "execution_count": 71,
   "metadata": {
    "collapsed": false
   },
   "outputs": [],
   "source": [
    "# We construct the grid of points. Since the PDE only contains second order derivatives we use truncation order 2.\n",
    "# Since we are using vectorized gdual we can instantiate only one gdual\n",
    "N=10\n",
    "values = np.linspace(0,1,N)\n",
    "xval = np.append(values,[values]*(N-1))\n",
    "yval = values.repeat(N)\n",
    "grid = [gdual(xval, \"x\", 2), gdual(yval, \"y\", 2)]"
   ]
  },
  {
   "cell_type": "code",
   "execution_count": 72,
   "metadata": {
    "collapsed": true
   },
   "outputs": [],
   "source": [
    "# We define the quadratic error of the dCGP in the grid points\n",
    "def qe_PDE1(dCGP, grid):\n",
    "    retval = 0\n",
    "    out = dCGP([grid[0], grid[1]])[0]\n",
    "    psi = np.array(out.constant_cf)\n",
    "    dpsidx2 = np.array(out.get_derivative({\"dx\" : 2}))\n",
    "    dpsidy2 = np.array(out.get_derivative({\"dy\" : 2}))\n",
    "    x = np.array(grid[0].constant_cf)\n",
    "    y = np.array(grid[1].constant_cf)  \n",
    "    pde1 = -2 * psi\n",
    "    retval += (pde1 - dpsidx2 - dpsidy2) * (pde1 - dpsidx2 - dpsidy2)\n",
    "    return sum(retval)"
   ]
  },
  {
   "cell_type": "code",
   "execution_count": 73,
   "metadata": {
    "collapsed": true
   },
   "outputs": [],
   "source": [
    "# We define a penalty term associated to the initial conditions violation\n",
    "sin1 = np.sin(1)\n",
    "def ic_PDE1(dCGP):\n",
    "    x0 = gdual([0]*N)\n",
    "    y0 = gdual(values)\n",
    "    psi = dCGP([x0, y0])[0]\n",
    "    dCGP_psi = np.array(psi.constant_cf)\n",
    "    err1 = (dCGP_psi - 0.) * (dCGP_psi - 0.)\n",
    "    x0 = gdual([1]*N)\n",
    "    y0 = gdual(values)\n",
    "    psi = dCGP([x0, y0])[0]\n",
    "    dCGP_psi = psi.constant_cf\n",
    "    err2 = (dCGP_psi - sin1*np.cos(values)) * (dCGP_psi - sin1*np.cos(values))\n",
    "    return sum(err1) + sum(err2)"
   ]
  },
  {
   "cell_type": "code",
   "execution_count": 74,
   "metadata": {
    "collapsed": false
   },
   "outputs": [
    {
     "name": "stdout",
     "output_type": "stream",
     "text": [
      "restart: \t gen: \t expression:\n",
      "5 \t\t 112 \t ['(sin(x)*cos(y))']  a.k.a  [sin(x)*cos(y)]\n",
      "7 \t\t 96 \t ['(sin(x)*cos(y))']  a.k.a  [sin(x)*cos(y)]\n",
      "11 \t\t 94 \t ['(sin(x)*cos(y))']  a.k.a  [sin(x)*cos(y)]\n",
      "12 \t\t 257 \t ['(cos(y)*sin(log(exp(x))))']  a.k.a  [sin(x)*cos(y)]\n",
      "13 \t\t 27 \t ['(sin(x)*cos(y))']  a.k.a  [sin(x)*cos(y)]\n",
      "15 \t\t 62 \t ['((cos(y)*(cos(y)/cos(y)))*sin(x))']  a.k.a  [sin(x)*cos(y)]\n",
      "17 \t\t 102 \t ['(cos(y)*sin(x))']  a.k.a  [sin(x)*cos(y)]\n",
      "26 \t\t 266 \t ['(cos(y)*sin(x))']  a.k.a  [sin(x)*cos(y)]\n",
      "32 \t\t 428 \t ['(sin(x)*cos(y))']  a.k.a  [sin(x)*cos(y)]\n",
      "33 \t\t 188 \t ['(sin(x)*cos(y))']  a.k.a  [sin(x)*cos(y)]\n",
      "35 \t\t 68 \t ['(cos(y)*sin(x))']  a.k.a  [sin(x)*cos(y)]\n",
      "40 \t\t 40 \t ['(sin(x)*cos(y))']  a.k.a  [sin(x)*cos(y)]\n",
      "41 \t\t 79 \t ['(sin(x)*cos(y))']  a.k.a  [sin(x)*cos(y)]\n",
      "46 \t\t 19 \t ['(sin(x)*cos(y))']  a.k.a  [sin(x)*cos(y)]\n",
      "50 \t\t 489 \t ['(sin(x)*cos(y))']  a.k.a  [sin(x)*cos(y)]\n",
      "55 \t\t 8 \t ['(cos(y)*sin(x))']  a.k.a  [sin(x)*cos(y)]\n",
      "56 \t\t 11 \t ['(cos(y)*sin(x))']  a.k.a  [sin(x)*cos(y)]\n",
      "63 \t\t 270 \t ['(sin(x)*cos(y))']  a.k.a  [sin(x)*cos(y)]\n",
      "66 \t\t 291 \t ['(sin(x)*cos(y))']  a.k.a  [sin(x)*cos(y)]\n",
      "67 \t\t 132 \t ['(cos(y)*sin(x))']  a.k.a  [sin(x)*cos(y)]\n",
      "69 \t\t 88 \t ['(sin(x)*cos(y))']  a.k.a  [sin(x)*cos(y)]\n",
      "70 \t\t 210 \t ['(sin(x)*cos(y))']  a.k.a  [sin(x)*cos(y)]\n",
      "71 \t\t 90 \t ['(sin(x)*cos(y))']  a.k.a  [sin(x)*cos(y)]\n",
      "72 \t\t 165 \t ['(cos(y)*sin(x))']  a.k.a  [sin(x)*cos(y)]\n",
      "79 \t\t 447 \t ['(sin(x)*cos(y))']  a.k.a  [sin(x)*cos(y)]\n",
      "81 \t\t 39 \t ['(sin(x)*cos(y))']  a.k.a  [sin(x)*cos(y)]\n",
      "87 \t\t 230 \t ['(sin(x)*cos(y))']  a.k.a  [sin(x)*cos(y)]\n",
      "89 \t\t 430 \t ['((cos(y)*cos(y))*(sin(x)/cos(y)))']  a.k.a  [sin(x)*cos(y)]\n",
      "95 \t\t 100 \t ['(sin(x)*cos(y))']  a.k.a  [sin(x)*cos(y)]\n",
      "96 \t\t 438 \t ['(cos(y)*sin(x))']  a.k.a  [sin(x)*cos(y)]\n",
      "98 \t\t 57 \t ['(cos(y)*sin(x))']  a.k.a  [sin(x)*cos(y)]\n",
      "99 \t\t 29 \t ['(sin(x)*cos(y))']  a.k.a  [sin(x)*cos(y)]\n"
     ]
    }
   ],
   "source": [
    "# We run nexp experiments to accumulate statistic for the ERT\n",
    "nexp = 100\n",
    "stop = 500\n",
    "offsprings = 10\n",
    "res = []\n",
    "print(\"restart: \\t gen: \\t expression:\")\n",
    "for i in range(nexp):\n",
    "    dCGP = expression(inputs=2, outputs=1, rows=1, cols=15, levels_back=16, arity=2, kernels=kernels, seed = randint(0,100000))\n",
    "    g, best_chromosome = run_experiment(max_gen = stop, offsprings = offsprings, \\\n",
    "            quadratic_error=qe_PDE1, initial_conditions_error=ic_PDE1, screen_output=False, dCGP=dCGP)\n",
    "    res.append(g)\n",
    "    dCGP.set(best_chromosome)\n",
    "    if g < (stop-1):\n",
    "        print(i, \"\\t\\t\", res[i], \"\\t\", dCGP([\"x\",\"y\"]), \" a.k.a \", dCGP.simplify([\"x\",\"y\"]))\n",
    "res = np.array(res)"
   ]
  },
  {
   "cell_type": "code",
   "execution_count": 35,
   "metadata": {
    "collapsed": false
   },
   "outputs": [
    {
     "name": "stdout",
     "output_type": "stream",
     "text": [
      "ERT Expected Run Time - avg. number of function evaluations needed:  10833.8235294\n",
      "Avg. number of function evaluations from Tsoulos paper:  40600\n"
     ]
    }
   ],
   "source": [
    "ERT = sum(res) / sum(res<(stop-1))\n",
    "print(\"ERT Expected Run Time - avg. number of function evaluations needed: \", ERT * offsprings)\n",
    "print(\"Avg. number of function evaluations from Tsoulos paper: \", 203 * 200)"
   ]
  },
  {
   "cell_type": "markdown",
   "metadata": {},
   "source": [
    "## 9 - We consider the following non linear Patial Differential Equation (PDE6):\n",
    "\n",
    "$\\nabla^2 \\psi(x,y) + \\exp(\\psi(x,y)) = 1 + x^2 + y^2 + \\frac 4{(1 + x^2 + y^2)^2}$ with $x\\in[0,1]$, $y\\in[0,1]$ and boundary conditions: $\\psi(0,y) = \\log(1+y^2)$, $\\psi(1,y) = \\log(2+y^2)$\n",
    "\n",
    "we demand its punctual validity over a squared grid of $N$ equally spaced points.\n",
    "\n",
    "NOTE: The solution to the PDE is $\\psi(x,y) = \\log(1 + x^2 + y^2)$"
   ]
  },
  {
   "cell_type": "code",
   "execution_count": 76,
   "metadata": {
    "collapsed": true
   },
   "outputs": [],
   "source": [
    "# We construct the grid of points. Since the PDE only contains second order derivatives we use truncation order 2.\n",
    "# Since we are using vectorized gdual we can instantiate only one gdual\n",
    "N=10\n",
    "values = np.linspace(0.1,3.5,N)\n",
    "xval = np.append(values,[values]*(N-1))\n",
    "yval = values.repeat(N)\n",
    "grid = [gdual(xval, \"x\", 2), gdual(yval, \"y\", 2)]"
   ]
  },
  {
   "cell_type": "code",
   "execution_count": 77,
   "metadata": {
    "collapsed": true
   },
   "outputs": [],
   "source": [
    "# We define the quadratic error of the dCGP in the grid points\n",
    "def qe_PDE6(dCGP, grid):\n",
    "    retval = 0\n",
    "    out = dCGP([grid[0], grid[1]])[0]\n",
    "    psi = np.array(out.constant_cf)\n",
    "    dpsidx2 = np.array(out.get_derivative({\"dx\" : 2}))\n",
    "    dpsidy2 = np.array(out.get_derivative({\"dy\" : 2}))\n",
    "    x = np.array(grid[0].constant_cf)\n",
    "    y = np.array(grid[1].constant_cf)  \n",
    "    pde6 = 4./(1+x*x+y*y)**2\n",
    "    retval += (pde6 - dpsidx2 - dpsidy2) * (pde6 - dpsidx2 - dpsidy2)\n",
    "    return sum(retval) / N**2"
   ]
  },
  {
   "cell_type": "code",
   "execution_count": 87,
   "metadata": {
    "collapsed": true
   },
   "outputs": [],
   "source": [
    "# We define a penalty term associated to the initial conditions violation\n",
    "def ic_PDE6(dCGP):\n",
    "    x0 = gdual([0.1]*N)\n",
    "    y0 = gdual(values)\n",
    "    psi = dCGP([x0, y0])[0]\n",
    "    dCGP_psi = np.array(psi.constant_cf)\n",
    "    err1 = (dCGP_psi - np.log(1+values*values+0.01)) * (dCGP_psi - np.log(1+values*values+0.01))\n",
    "    x0 = gdual([1]*N)\n",
    "    y0 = gdual(values)\n",
    "    psi = dCGP([x0, y0])[0]\n",
    "    dCGP_psi = psi.constant_cf\n",
    "    err2 = (dCGP_psi - np.log(2+values*values)) * (dCGP_psi - np.log(2+values*values))\n",
    "    x0 = gdual(values)\n",
    "    y0 = gdual([0.1]*N)\n",
    "    psi = dCGP([x0, y0])[0]\n",
    "    dCGP_psi = np.array(psi.constant_cf)\n",
    "    err3 = (dCGP_psi - np.log(1+values*values+0.01)) * (dCGP_psi - np.log(1+values*values+0.01))\n",
    "    x0 = gdual(values)\n",
    "    y0 = gdual([1]*N)\n",
    "    psi = dCGP([x0, y0])[0]\n",
    "    dCGP_psi = psi.constant_cf\n",
    "    err4 = (dCGP_psi - np.log(2+values*values)) * (dCGP_psi - np.log(2+values*values))\n",
    "    return (sum(err1) + sum(err2) + sum(err4) + sum(err3)) "
   ]
  },
  {
   "cell_type": "code",
   "execution_count": null,
   "metadata": {
    "collapsed": false
   },
   "outputs": [
    {
     "name": "stdout",
     "output_type": "stream",
     "text": [
      "restart: \t gen: \t expression:\n",
      "15 \t\t 430 \t ['log(((y*y)+((x*x)+((y*x)/(y*x)))))']  a.k.a  [log(x**2 + y**2 + 1)]   8.00654045939e-29\n",
      "26 \t\t 184 \t ['log(((((y*y)/(y*y))+(y*y))+(x*x)))']  a.k.a  [log(x**2 + y**2 + 1)]   1.81207060071e-28\n"
     ]
    }
   ],
   "source": [
    "# We run nexp experiments to accumulate statistic for the ERT\n",
    "kernels = kernel_set([\"sum\", \"mul\", \"div\", \"log\", \"sin\"])() # note the call operator (returns the list of kernels)\n",
    "nexp = 100\n",
    "stop = 500\n",
    "offsprings = 10\n",
    "res = []\n",
    "print(\"restart: \\t gen: \\t expression:\")\n",
    "for i in range(nexp):\n",
    "    dCGP = expression(inputs=2, outputs=1, rows=1, cols=15, levels_back=16, arity=2, kernels=kernels, seed = randint(0,100000))\n",
    "    g, best_chromosome = run_experiment(max_gen = stop, offsprings = offsprings, \\\n",
    "            quadratic_error=qe_PDE6, initial_conditions_error=ic_PDE6, screen_output=False, dCGP=dCGP)\n",
    "    res.append(g)\n",
    "    dCGP.set(best_chromosome)\n",
    "    if g < (stop-1):\n",
    "        print(i, \"\\t\\t\", res[i], \"\\t\", dCGP([\"x\",\"y\"]), \" a.k.a \", dCGP.simplify([\"x\",\"y\"]), \" \", qe_PDE6(dCGP,grid)+ic_PDE6(dCGP))\n",
    "res = np.array(res)"
   ]
  },
  {
   "cell_type": "code",
   "execution_count": 229,
   "metadata": {
    "collapsed": false
   },
   "outputs": [
    {
     "name": "stdout",
     "output_type": "stream",
     "text": [
      "[log(x**2 + y**2 + 1)]\n"
     ]
    },
    {
     "data": {
      "image/png": "[encoded data removed]",
      "text/plain": [
       "<matplotlib.figure.Figure at 0x7ff9a572d4e0>"
      ]
     },
     "metadata": {},
     "output_type": "display_data"
    },
    {
     "data": {
      "text/plain": [
       "<matplotlib.image.AxesImage at 0x7ff9a5558320>"
      ]
     },
     "execution_count": 229,
     "metadata": {},
     "output_type": "execute_result"
    }
   ],
   "source": [
    "plt.rcParams[\"figure.figsize\"] = [14,14]\n",
    "x = [1, 0, 0, 1, 1, 1, 2, 1, 1, 0, 2, 3, 0, 4, 5, 3, 6, 4, 0, 2, 6, 1, 6, 3, 3, 8, 7, 3, 0, 5, 1, 3, 11, 2, 11, 2, 2, 7, 2, 1, 5, 4, 3, 12, 2, 7]\n",
    "x = dCGP.set(x)\n",
    "print(dCGP.simplify([\"x\", \"y\"]))\n",
    "dCGP.visualize([\"x\", \"y\"])\n"
   ]
  },
  {
   "cell_type": "code",
   "execution_count": 240,
   "metadata": {
    "collapsed": false
   },
   "outputs": [
    {
     "data": {
      "text/plain": [
       "1.2836323079340928e-32"
      ]
     },
     "execution_count": 240,
     "metadata": {},
     "output_type": "execute_result"
    }
   ],
   "source": [
    "ic_PDE6(dCGP)"
   ]
  },
  {
   "cell_type": "code",
   "execution_count": 230,
   "metadata": {
    "collapsed": false
   },
   "outputs": [
    {
     "data": {
      "text/plain": [
       "[0]"
      ]
     },
     "execution_count": 230,
     "metadata": {},
     "output_type": "execute_result"
    }
   ],
   "source": [
    "dCGP([gdual([1]),gdual([0])])"
   ]
  },
  {
   "cell_type": "code",
   "execution_count": 222,
   "metadata": {
    "collapsed": false
   },
   "outputs": [
    {
     "data": {
      "text/plain": [
       "0.69314718055994529"
      ]
     },
     "execution_count": 222,
     "metadata": {},
     "output_type": "execute_result"
    }
   ],
   "source": [
    "np.log(2)"
   ]
  },
  {
   "cell_type": "code",
   "execution_count": 83,
   "metadata": {
    "collapsed": false
   },
   "outputs": [
    {
     "name": "stdout",
     "output_type": "stream",
     "text": [
      "ERT Expected Run Time - avg. number of function evaluations needed:  55180.6666667\n",
      "Avg. number of function evaluations from Tsoulos paper:  159400\n"
     ]
    }
   ],
   "source": [
    "ERT = sum(res) / sum(res<(stop-1))\n",
    "print(\"ERT Expected Run Time - avg. number of function evaluations needed: \", ERT * offsprings)\n",
    "print(\"Avg. number of function evaluations from Tsoulos paper: \", 797 * 200)"
   ]
  },
  {
   "cell_type": "code",
   "execution_count": 30,
   "metadata": {
    "collapsed": false
   },
   "outputs": [
    {
     "data": {
      "text/plain": [
       "d-CGP Expression:\n",
       "\tNumber of inputs:\t\t1\n",
       "\tNumber of outputs:\t\t1\n",
       "\tNumber of rows:\t\t\t1\n",
       "\tNumber of columns:\t\t15\n",
       "\tNumber of levels-back allowed:\t16\n",
       "\tBasis function arity:\t\t2\n",
       "\n",
       "\tResulting lower bounds:\t[0, 0, 0, 0, 0, ... ]\n",
       "\tResulting upper bounds:\t[6, 0, 0, 6, 1, ... ]\n",
       "\n",
       "\tCurrent expression (encoded):\t[4, 0, 0, 1, 0, ... ]\n",
       "\tActive nodes:\t\t\t[0, 1, 2, 3, 7, ... ]\n",
       "\tActive genes:\t\t\t[0, 1, 2, 3, 4, ... ]\n",
       "\n",
       "\tFunction set:\t\t\t[sum, mul, div, log, sin, ... ]"
      ]
     },
     "execution_count": 30,
     "metadata": {},
     "output_type": "execute_result"
    }
   ],
   "source": [
    "dCGP"
   ]
  },
  {
   "cell_type": "code",
   "execution_count": null,
   "metadata": {
    "collapsed": true
   },
   "outputs": [],
   "source": []
  }
 ],
 "metadata": {
  "kernelspec": {
   "display_name": "Python 3",
   "language": "python",
   "name": "python3"
  },
  "language_info": {
   "codemirror_mode": {
    "name": "ipython",
    "version": 3
   },
   "file_extension": ".py",
   "mimetype": "text/x-python",
   "name": "python",
   "nbconvert_exporter": "python",
   "pygments_lexer": "ipython3",
   "version": "3.5.2"
  }
 },
 "nbformat": 4,
 "nbformat_minor": 1
}
